{
 "cells": [
  {
   "cell_type": "code",
   "execution_count": 1,
   "id": "b60452eb-5f9e-4389-9de1-9c21bd79fb38",
   "metadata": {},
   "outputs": [],
   "source": [
    "import pandas as pd\n",
    "import numpy as np\n",
    "import matplotlib.pyplot as plt\n",
    "import seaborn as sns\n",
    "import warnings\n",
    "warnings.filterwarnings('ignore')"
   ]
  },
  {
   "cell_type": "code",
   "execution_count": 2,
   "id": "37187b46-db20-4aeb-be2c-ad4eadcd40f2",
   "metadata": {},
   "outputs": [],
   "source": [
    "df=pd.read_csv(\"C:\\\\Users\\\\kmm23\\\\Downloads\\\\student_performance_prediction.csv\")"
   ]
  },
  {
   "cell_type": "markdown",
   "id": "fdb777f5-682e-416f-abdf-3ee799baf433",
   "metadata": {},
   "source": [
    "# Loading and exploring data."
   ]
  },
  {
   "cell_type": "code",
   "execution_count": 3,
   "id": "8a5d2107-aabd-4b3f-8bb4-f4731d6c9a3a",
   "metadata": {},
   "outputs": [
    {
     "data": {
      "text/html": [
       "<div>\n",
       "<style scoped>\n",
       "    .dataframe tbody tr th:only-of-type {\n",
       "        vertical-align: middle;\n",
       "    }\n",
       "\n",
       "    .dataframe tbody tr th {\n",
       "        vertical-align: top;\n",
       "    }\n",
       "\n",
       "    .dataframe thead th {\n",
       "        text-align: right;\n",
       "    }\n",
       "</style>\n",
       "<table border=\"1\" class=\"dataframe\">\n",
       "  <thead>\n",
       "    <tr style=\"text-align: right;\">\n",
       "      <th></th>\n",
       "      <th>Student ID</th>\n",
       "      <th>Study Hours per Week</th>\n",
       "      <th>Attendance Rate</th>\n",
       "      <th>Previous Grades</th>\n",
       "      <th>Participation in Extracurricular Activities</th>\n",
       "      <th>Parent Education Level</th>\n",
       "      <th>Passed</th>\n",
       "    </tr>\n",
       "  </thead>\n",
       "  <tbody>\n",
       "    <tr>\n",
       "      <th>0</th>\n",
       "      <td>S00001</td>\n",
       "      <td>12.5</td>\n",
       "      <td>NaN</td>\n",
       "      <td>75.0</td>\n",
       "      <td>Yes</td>\n",
       "      <td>Master</td>\n",
       "      <td>Yes</td>\n",
       "    </tr>\n",
       "    <tr>\n",
       "      <th>1</th>\n",
       "      <td>S00002</td>\n",
       "      <td>9.3</td>\n",
       "      <td>95.3</td>\n",
       "      <td>60.6</td>\n",
       "      <td>No</td>\n",
       "      <td>High School</td>\n",
       "      <td>No</td>\n",
       "    </tr>\n",
       "    <tr>\n",
       "      <th>2</th>\n",
       "      <td>S00003</td>\n",
       "      <td>13.2</td>\n",
       "      <td>NaN</td>\n",
       "      <td>64.0</td>\n",
       "      <td>No</td>\n",
       "      <td>Associate</td>\n",
       "      <td>No</td>\n",
       "    </tr>\n",
       "    <tr>\n",
       "      <th>3</th>\n",
       "      <td>S00004</td>\n",
       "      <td>17.6</td>\n",
       "      <td>76.8</td>\n",
       "      <td>62.4</td>\n",
       "      <td>Yes</td>\n",
       "      <td>Bachelor</td>\n",
       "      <td>No</td>\n",
       "    </tr>\n",
       "    <tr>\n",
       "      <th>4</th>\n",
       "      <td>S00005</td>\n",
       "      <td>8.8</td>\n",
       "      <td>89.3</td>\n",
       "      <td>72.7</td>\n",
       "      <td>No</td>\n",
       "      <td>Master</td>\n",
       "      <td>No</td>\n",
       "    </tr>\n",
       "  </tbody>\n",
       "</table>\n",
       "</div>"
      ],
      "text/plain": [
       "  Student ID  Study Hours per Week  Attendance Rate  Previous Grades  \\\n",
       "0     S00001                  12.5              NaN             75.0   \n",
       "1     S00002                   9.3             95.3             60.6   \n",
       "2     S00003                  13.2              NaN             64.0   \n",
       "3     S00004                  17.6             76.8             62.4   \n",
       "4     S00005                   8.8             89.3             72.7   \n",
       "\n",
       "  Participation in Extracurricular Activities Parent Education Level Passed  \n",
       "0                                         Yes                 Master    Yes  \n",
       "1                                          No            High School     No  \n",
       "2                                          No              Associate     No  \n",
       "3                                         Yes               Bachelor     No  \n",
       "4                                          No                 Master     No  "
      ]
     },
     "execution_count": 3,
     "metadata": {},
     "output_type": "execute_result"
    }
   ],
   "source": [
    "df.head()"
   ]
  },
  {
   "cell_type": "code",
   "execution_count": 4,
   "id": "549e29fa-464c-499b-858a-a18666c02164",
   "metadata": {},
   "outputs": [],
   "source": [
    "df.drop(columns=[\"Student ID\"],inplace=True)"
   ]
  },
  {
   "cell_type": "code",
   "execution_count": 5,
   "id": "defaee70-e7fb-4a94-b46d-1f62b7224b6f",
   "metadata": {},
   "outputs": [
    {
     "data": {
      "text/plain": [
       "(40000, 6)"
      ]
     },
     "execution_count": 5,
     "metadata": {},
     "output_type": "execute_result"
    }
   ],
   "source": [
    "df.shape"
   ]
  },
  {
   "cell_type": "code",
   "execution_count": 6,
   "id": "4d0b7707-d78b-4a64-95d7-e7d9788c471f",
   "metadata": {},
   "outputs": [
    {
     "name": "stdout",
     "output_type": "stream",
     "text": [
      "<class 'pandas.core.frame.DataFrame'>\n",
      "RangeIndex: 40000 entries, 0 to 39999\n",
      "Data columns (total 6 columns):\n",
      " #   Column                                       Non-Null Count  Dtype  \n",
      "---  ------                                       --------------  -----  \n",
      " 0   Study Hours per Week                         38005 non-null  float64\n",
      " 1   Attendance Rate                              38008 non-null  float64\n",
      " 2   Previous Grades                              38006 non-null  float64\n",
      " 3   Participation in Extracurricular Activities  38000 non-null  object \n",
      " 4   Parent Education Level                       38000 non-null  object \n",
      " 5   Passed                                       38000 non-null  object \n",
      "dtypes: float64(3), object(3)\n",
      "memory usage: 1.8+ MB\n"
     ]
    }
   ],
   "source": [
    "df.info()"
   ]
  },
  {
   "cell_type": "code",
   "execution_count": 7,
   "id": "fb0cb6c3-a8bd-4581-8db3-efd093159ef4",
   "metadata": {},
   "outputs": [
    {
     "data": {
      "text/html": [
       "<div>\n",
       "<style scoped>\n",
       "    .dataframe tbody tr th:only-of-type {\n",
       "        vertical-align: middle;\n",
       "    }\n",
       "\n",
       "    .dataframe tbody tr th {\n",
       "        vertical-align: top;\n",
       "    }\n",
       "\n",
       "    .dataframe thead th {\n",
       "        text-align: right;\n",
       "    }\n",
       "</style>\n",
       "<table border=\"1\" class=\"dataframe\">\n",
       "  <thead>\n",
       "    <tr style=\"text-align: right;\">\n",
       "      <th></th>\n",
       "      <th>Participation in Extracurricular Activities</th>\n",
       "      <th>Parent Education Level</th>\n",
       "      <th>Passed</th>\n",
       "    </tr>\n",
       "  </thead>\n",
       "  <tbody>\n",
       "    <tr>\n",
       "      <th>count</th>\n",
       "      <td>38000</td>\n",
       "      <td>38000</td>\n",
       "      <td>38000</td>\n",
       "    </tr>\n",
       "    <tr>\n",
       "      <th>unique</th>\n",
       "      <td>2</td>\n",
       "      <td>5</td>\n",
       "      <td>2</td>\n",
       "    </tr>\n",
       "    <tr>\n",
       "      <th>top</th>\n",
       "      <td>No</td>\n",
       "      <td>Bachelor</td>\n",
       "      <td>Yes</td>\n",
       "    </tr>\n",
       "    <tr>\n",
       "      <th>freq</th>\n",
       "      <td>19028</td>\n",
       "      <td>7685</td>\n",
       "      <td>19011</td>\n",
       "    </tr>\n",
       "  </tbody>\n",
       "</table>\n",
       "</div>"
      ],
      "text/plain": [
       "       Participation in Extracurricular Activities Parent Education Level  \\\n",
       "count                                        38000                  38000   \n",
       "unique                                           2                      5   \n",
       "top                                             No               Bachelor   \n",
       "freq                                         19028                   7685   \n",
       "\n",
       "       Passed  \n",
       "count   38000  \n",
       "unique      2  \n",
       "top       Yes  \n",
       "freq    19011  "
      ]
     },
     "execution_count": 7,
     "metadata": {},
     "output_type": "execute_result"
    }
   ],
   "source": [
    "df.describe(include=\"object\")"
   ]
  },
  {
   "cell_type": "code",
   "execution_count": 8,
   "id": "fce90ede-277a-4f89-bfc1-1edf168d864f",
   "metadata": {},
   "outputs": [
    {
     "data": {
      "text/plain": [
       "0"
      ]
     },
     "execution_count": 8,
     "metadata": {},
     "output_type": "execute_result"
    }
   ],
   "source": [
    "df.duplicated().sum()"
   ]
  },
  {
   "cell_type": "code",
   "execution_count": 9,
   "id": "c1793ea9-7dd4-459e-92b8-34027a538cb8",
   "metadata": {
    "scrolled": true
   },
   "outputs": [
    {
     "data": {
      "text/plain": [
       "Study Hours per Week                           1995\n",
       "Attendance Rate                                1992\n",
       "Previous Grades                                1994\n",
       "Participation in Extracurricular Activities    2000\n",
       "Parent Education Level                         2000\n",
       "Passed                                         2000\n",
       "dtype: int64"
      ]
     },
     "execution_count": 9,
     "metadata": {},
     "output_type": "execute_result"
    }
   ],
   "source": [
    "df.isna().sum()"
   ]
  },
  {
   "cell_type": "code",
   "execution_count": 10,
   "id": "ede67513-9ec2-4a07-8aed-21553036bf8d",
   "metadata": {},
   "outputs": [
    {
     "data": {
      "text/plain": [
       "Index(['Study Hours per Week', 'Attendance Rate', 'Previous Grades',\n",
       "       'Participation in Extracurricular Activities', 'Parent Education Level',\n",
       "       'Passed'],\n",
       "      dtype='object')"
      ]
     },
     "execution_count": 10,
     "metadata": {},
     "output_type": "execute_result"
    }
   ],
   "source": [
    "df.columns"
   ]
  },
  {
   "cell_type": "code",
   "execution_count": 11,
   "id": "b3141c23-b52a-461b-bcc6-ada050aca903",
   "metadata": {},
   "outputs": [],
   "source": [
    "df.rename(columns={\"Study Hours per Week\":\"study_hours\"},inplace=True)"
   ]
  },
  {
   "cell_type": "code",
   "execution_count": 12,
   "id": "1222b6f5-f866-4b72-995b-4ebb247d4714",
   "metadata": {},
   "outputs": [],
   "source": [
    "df.rename(columns={\"Attendance Rate\":\"Attendance_Rate\"},inplace=True)"
   ]
  },
  {
   "cell_type": "code",
   "execution_count": 13,
   "id": "44e9af20-11e9-427b-84d8-6bd5723a9d7f",
   "metadata": {},
   "outputs": [],
   "source": [
    "df.rename(columns={\"Previous Grades\":\"Previous_Grades\"},inplace=True)"
   ]
  },
  {
   "cell_type": "code",
   "execution_count": 14,
   "id": "b0259b25-9dd9-4c60-9f98-345ec2addd5c",
   "metadata": {},
   "outputs": [],
   "source": [
    "df.rename(columns={\"Participation in Extracurricular Activities\":\"Participation_in_Extracurricular_Activities\"},inplace=True)"
   ]
  },
  {
   "cell_type": "code",
   "execution_count": 15,
   "id": "ad1aecb3-8e70-4d6f-b178-3c6cd2086a57",
   "metadata": {},
   "outputs": [],
   "source": [
    "df.rename(columns={\"Parent Education Level\":\"Parent_Education_Level\"},inplace=True)"
   ]
  },
  {
   "cell_type": "markdown",
   "id": "586964b1-b2a1-4403-8cf5-b852207743e6",
   "metadata": {},
   "source": [
    "# Filling null values"
   ]
  },
  {
   "cell_type": "code",
   "execution_count": 16,
   "id": "666f047e-f299-4a2e-af96-7adc2c8b24bb",
   "metadata": {},
   "outputs": [
    {
     "data": {
      "text/plain": [
       "array([ 12.5,   9.3,  13.2,  17.6,   8.8,  17.9,  13.8,   7.7,  12.7,\n",
       "        11.2,   0.4,   1.4,   7.2,   4.9,  11.6,   5.5,   2.9,  17.3,\n",
       "         8.9,  10.3,   7.3,  10.6,   4.2,  11.9,   7. ,   8.5,  19.3,\n",
       "         9.9,   4.7,  14.1,   3.9,  11. ,   0.2,   3.4,   nan,  10.9,\n",
       "         9.4,   2.6,   6.4,  15.3,  11.7,   1.2,   8.1,   6.6,  13.1,\n",
       "        15.2,  14.7,   5.8,  14.9,   7.6,   9.1,   4.5,   4. ,  16.8,\n",
       "         9.6,  15. ,  11.8,   6.8,  17.7,   9.8,  17.8,  -3.1,  10.4,\n",
       "        10.5,   0.1,  17.4,   7.4,   6. ,   7.5,  14.6,  12.6,  14.8,\n",
       "         6.5,   8.4,   8. ,   2.7,  11.5,  11.3,  10. ,   7.9,   9.2,\n",
       "        12. ,  19.4,  22.3,   9. ,  15.7,  14. ,  17. ,   3. ,  12.9,\n",
       "        21. ,   2.2,  12.4,   5.4,   6.1,   3.8,  11.1,  16.5,   2. ,\n",
       "        13.9,   5.1,  15.8,   5.9,  12.1,  19.5,   6.2,   5.6,  11.4,\n",
       "        10.1,   8.7,   5.7,   4.6,  13.6,   2.4,   7.8,  14.3,  10.8,\n",
       "        12.8,  15.4,   3.1,   5.3,  29.3,  13.3,  21.6,   0.7,  13.4,\n",
       "         1.9,  10.2,   6.7,  20.7,  -0.1,   8.3,  18.8,   3.7,  20.6,\n",
       "        16.3,  12.2,   9.7,  -6.2,  18.2,   2.8,  10.7,  17.2,  12.3,\n",
       "         6.9,   7.1,  14.2,  14.5,  13.7,  16.4,  15.5,  13. ,  20.5,\n",
       "         5. ,   8.6,   9.5,  13.5,  -1. ,  20.8,  14.4,  20.9,  -0.6,\n",
       "        19.2,  15.9,  16.2,   4.4,   2.3,   6.3,  20.3,   5.2,   4.1,\n",
       "        -0.2,  17.5,  18.1,   1.5,  -0.3,   3.5,   4.8,  19.8,  -1.5,\n",
       "        25.4,  15.6,  18.4,   1.7,   1. ,  -2.4,  20.4,  16. ,   0.6,\n",
       "         8.2,  -1.1,  21.4,   1.1,  22.2,  16.7,  18. ,   3.6,  18.3,\n",
       "         2.5,  -3.5,  22.9,  -3.3,  -0.4,  18.5,   3.3,  15.1,   0.8,\n",
       "         3.2,  23.2,  22.8,  18.9,  19.1,   2.1,  21.5,  17.1,  19. ,\n",
       "        20.1,  22.6,  16.9,  16.6,  -2.1,  18.7,  18.6,  -4.2,   1.3,\n",
       "         0. ,  19.6,  22. ,   4.3,  -0.8,  21.3,  -2.5,  21.1,  16.1,\n",
       "        22.5,  -2.8,  23. ,  20. ,  -4.4,  -4.6,  -1.8,  26. ,  -0.9,\n",
       "         1.6,  21.2,  -2.7,  -0.7,  25.7,  -4.7,   0.5,  -5.1,  23.8,\n",
       "        -2.2,  22.1,   1.8,  19.9,  -3. ,  25.5,  21.8,  24.9,  -3.2,\n",
       "        23.1,  -1.2,  -0.5,  -2.6,  23.5,  -3.7,  29.6,  -5. ,   0.9,\n",
       "        -4.5,  24.3,  19.7,  20.2,  22.4,  -1.6,  -2. ,  25.8,  24.1,\n",
       "        21.7,  -1.9,  -4.3,   0.3,  21.9,  -5.9,  22.7,  25.6,  24.6,\n",
       "        24.7,  -1.3,  -3.6,  23.9,  27.6,  23.3,  -1.4,  23.6,  -6.1,\n",
       "        -4.8,  -5.2,  24. ,  -3.9,  -8.4,  -8. ,  -5.7,  25. ,  -9.2,\n",
       "        26.9,  -4. ,  -9.6,  -1.7,  -2.3,  -4.1,  -4.9,  -6.9,  -3.8,\n",
       "        -6.6,  26.4,  24.8,  24.2,  -2.9,  23.4,  25.2,  27.1,  25.9,\n",
       "        -5.4,  23.7,  -3.4,  -6.3,  -8.2,  -5.5,  24.4,  -6.5,  32.4,\n",
       "        24.5,  -6.7,  29.7,  28. ,  -6. ,  28.1,  -8.3,  26.1,  -5.3,\n",
       "        25.1,  28.5,  -7.3,  26.8,  -5.8,  -7.1,  -7.7,  26.7, -12.3,\n",
       "        26.3,  -6.8,  28.6,  -7.2,  26.5])"
      ]
     },
     "execution_count": 16,
     "metadata": {},
     "output_type": "execute_result"
    }
   ],
   "source": [
    "df.study_hours.unique()"
   ]
  },
  {
   "cell_type": "code",
   "execution_count": 17,
   "id": "b4e887de-1458-42f6-b2d4-790b016dfef5",
   "metadata": {},
   "outputs": [
    {
     "data": {
      "text/plain": [
       "study_hours\n",
       " 10.1    339\n",
       " 10.7    333\n",
       " 11.2    318\n",
       " 10.2    317\n",
       " 10.4    315\n",
       "        ... \n",
       "-9.2       1\n",
       "-8.2       1\n",
       "-9.6       1\n",
       "-6.9       1\n",
       " 26.5      1\n",
       "Name: count, Length: 355, dtype: int64"
      ]
     },
     "execution_count": 17,
     "metadata": {},
     "output_type": "execute_result"
    }
   ],
   "source": [
    "df.study_hours.value_counts()"
   ]
  },
  {
   "cell_type": "code",
   "execution_count": 18,
   "id": "7b6cf622-0cbc-4e91-bcd3-40d9727e60ca",
   "metadata": {},
   "outputs": [],
   "source": [
    "df.study_hours.fillna(df.study_hours.median(),inplace=True)"
   ]
  },
  {
   "cell_type": "code",
   "execution_count": 19,
   "id": "9649a431-1ade-4c5a-8224-4e6f07420ec2",
   "metadata": {},
   "outputs": [
    {
     "data": {
      "text/plain": [
       "0"
      ]
     },
     "execution_count": 19,
     "metadata": {},
     "output_type": "execute_result"
    }
   ],
   "source": [
    "df.study_hours.isna().sum()"
   ]
  },
  {
   "cell_type": "code",
   "execution_count": 20,
   "id": "820ef1d5-3e0e-4bc9-b1c6-ac54f8f9071a",
   "metadata": {},
   "outputs": [
    {
     "data": {
      "text/html": [
       "<div>\n",
       "<style scoped>\n",
       "    .dataframe tbody tr th:only-of-type {\n",
       "        vertical-align: middle;\n",
       "    }\n",
       "\n",
       "    .dataframe tbody tr th {\n",
       "        vertical-align: top;\n",
       "    }\n",
       "\n",
       "    .dataframe thead th {\n",
       "        text-align: right;\n",
       "    }\n",
       "</style>\n",
       "<table border=\"1\" class=\"dataframe\">\n",
       "  <thead>\n",
       "    <tr style=\"text-align: right;\">\n",
       "      <th></th>\n",
       "      <th>study_hours</th>\n",
       "      <th>Attendance_Rate</th>\n",
       "      <th>Previous_Grades</th>\n",
       "      <th>Participation_in_Extracurricular_Activities</th>\n",
       "      <th>Parent_Education_Level</th>\n",
       "      <th>Passed</th>\n",
       "    </tr>\n",
       "  </thead>\n",
       "  <tbody>\n",
       "    <tr>\n",
       "      <th>0</th>\n",
       "      <td>12.5</td>\n",
       "      <td>NaN</td>\n",
       "      <td>75.0</td>\n",
       "      <td>Yes</td>\n",
       "      <td>Master</td>\n",
       "      <td>Yes</td>\n",
       "    </tr>\n",
       "    <tr>\n",
       "      <th>1</th>\n",
       "      <td>9.3</td>\n",
       "      <td>95.3</td>\n",
       "      <td>60.6</td>\n",
       "      <td>No</td>\n",
       "      <td>High School</td>\n",
       "      <td>No</td>\n",
       "    </tr>\n",
       "    <tr>\n",
       "      <th>2</th>\n",
       "      <td>13.2</td>\n",
       "      <td>NaN</td>\n",
       "      <td>64.0</td>\n",
       "      <td>No</td>\n",
       "      <td>Associate</td>\n",
       "      <td>No</td>\n",
       "    </tr>\n",
       "    <tr>\n",
       "      <th>3</th>\n",
       "      <td>17.6</td>\n",
       "      <td>76.8</td>\n",
       "      <td>62.4</td>\n",
       "      <td>Yes</td>\n",
       "      <td>Bachelor</td>\n",
       "      <td>No</td>\n",
       "    </tr>\n",
       "    <tr>\n",
       "      <th>4</th>\n",
       "      <td>8.8</td>\n",
       "      <td>89.3</td>\n",
       "      <td>72.7</td>\n",
       "      <td>No</td>\n",
       "      <td>Master</td>\n",
       "      <td>No</td>\n",
       "    </tr>\n",
       "  </tbody>\n",
       "</table>\n",
       "</div>"
      ],
      "text/plain": [
       "   study_hours  Attendance_Rate  Previous_Grades  \\\n",
       "0         12.5              NaN             75.0   \n",
       "1          9.3             95.3             60.6   \n",
       "2         13.2              NaN             64.0   \n",
       "3         17.6             76.8             62.4   \n",
       "4          8.8             89.3             72.7   \n",
       "\n",
       "  Participation_in_Extracurricular_Activities Parent_Education_Level Passed  \n",
       "0                                         Yes                 Master    Yes  \n",
       "1                                          No            High School     No  \n",
       "2                                          No              Associate     No  \n",
       "3                                         Yes               Bachelor     No  \n",
       "4                                          No                 Master     No  "
      ]
     },
     "execution_count": 20,
     "metadata": {},
     "output_type": "execute_result"
    }
   ],
   "source": [
    "df.head()"
   ]
  },
  {
   "cell_type": "code",
   "execution_count": 21,
   "id": "176936ea-7b92-4cba-a425-d5a3dd7a185e",
   "metadata": {},
   "outputs": [
    {
     "data": {
      "text/plain": [
       "array([  nan,  95.3,  76.8, ..., 136.5, 128.6,  12.2])"
      ]
     },
     "execution_count": 21,
     "metadata": {},
     "output_type": "execute_result"
    }
   ],
   "source": [
    "df.Attendance_Rate.unique()"
   ]
  },
  {
   "cell_type": "code",
   "execution_count": 22,
   "id": "2c715536-1170-462a-9619-f3ed20a80bb0",
   "metadata": {},
   "outputs": [
    {
     "data": {
      "text/plain": [
       "Attendance_Rate\n",
       "150.0    100\n",
       "77.8      98\n",
       "80.2      96\n",
       "75.6      95\n",
       "67.2      90\n",
       "        ... \n",
       "8.7        1\n",
       "134.4      1\n",
       "16.7       1\n",
       "16.6       1\n",
       "12.2       1\n",
       "Name: count, Length: 1235, dtype: int64"
      ]
     },
     "execution_count": 22,
     "metadata": {},
     "output_type": "execute_result"
    }
   ],
   "source": [
    "df.Attendance_Rate.value_counts()"
   ]
  },
  {
   "cell_type": "code",
   "execution_count": 23,
   "id": "f447c4b2-5dba-4abf-9211-b9334c1024c6",
   "metadata": {},
   "outputs": [],
   "source": [
    "df.Attendance_Rate.fillna(df.Attendance_Rate.median(),inplace=True)"
   ]
  },
  {
   "cell_type": "code",
   "execution_count": 24,
   "id": "364bba7d-ff84-4f9b-a2be-f7bdedcc7874",
   "metadata": {},
   "outputs": [
    {
     "data": {
      "text/plain": [
       "0"
      ]
     },
     "execution_count": 24,
     "metadata": {},
     "output_type": "execute_result"
    }
   ],
   "source": [
    "df.Attendance_Rate.isna().sum()"
   ]
  },
  {
   "cell_type": "code",
   "execution_count": 25,
   "id": "98262339-a423-439e-9d19-13a83899ea48",
   "metadata": {},
   "outputs": [
    {
     "data": {
      "text/plain": [
       "array([ 75. ,  60.6,  64. ,  62.4,  72.7,  69.3,  93.6,  59.2,  91.9,\n",
       "        37.8,  72.3,  41.2,  49.6,  50.4,  49.2,  55.9,  98. ,  51.8,\n",
       "        40.8,  72.4,  68.6,  98.2,  64.4,  30.7,  58.6,  58.3,  46.5,\n",
       "        56.6,  62.8,  64.1,  44.3,  74.1,  89.5,  69.2,  81.6,  67.7,\n",
       "        49.3,  69.1,  57.5,  48.4,  63.8,  77.3,  59.9,  94.1,  79.3,\n",
       "        56.8,  56.3,  97.2,  60. ,  70.5,  71.3,  39.1,  39.3,   nan,\n",
       "        65.2,  42.3,  60.1,  68.2,  34.1,  65.8,  66.6,  58. ,  48.5,\n",
       "        59.4,  93.9,  63.2,  71.4,  70.8,  71.7,  74. ,  43.1,  67.8,\n",
       "        55.7,  63.4,  64.7,  67.6,  39.8,  68.9,  74.8,  68.7,  54.1,\n",
       "        52.1,  77. ,  84.6,  76.5,  26.9,  54.8, 200. ,  49.1,  91.5,\n",
       "        45.5,  61.8,  52. ,  71.2,  47.3,  63.3,  58.2,  51. ,  49.5,\n",
       "        81.5,  68. ,  55.6,  87.3,  61.4,  73. ,  86.6,  68.1,  82.4,\n",
       "        73.1,  56.7,  65. ,  56.4,  48.8,  85.4,  85. ,  44.9,  56.2,\n",
       "        40. ,  82.2,  29. ,  76.9,  66.9,  80.8,  74.4,  74.2,  78.5,\n",
       "        61.6,  61. ,  97.8,  63.7,  47.8,  52.4,  94.4,  66.5,  74.5,\n",
       "        79.2,  59. ,  65.7,  46.6,  76. ,  70.1,  60.5,  61.9,  70.9,\n",
       "        73.6,  62. ,  52.5,  92.5,  49.4,  49.7,  94.9, 102. ,  70. ,\n",
       "        55.8,  60.4,  70.3,  64.5,  61.7,  62.1,  95.8,  59.3,  59.6,\n",
       "        64.3,  55.4,  77.8,  82.8,  84.3,  35.1,  55.1,  57.7,  64.6,\n",
       "        82.5,  48.1,  53. ,  67.2,  50.2,  84.8,  95.1,  67. ,  43.7,\n",
       "        42.9,  69.9,  44. ,  65.9,  48.6,  39.4,  56. ,  54.4,  65.5,\n",
       "        86.2,  67.3,  43. ,  34.7,  28.2,  72.5,  73.9,  92.7,  58.1,\n",
       "        51.5,  76.6,  26.2,  81.7,  40.6,  34.2,  59.8,  69.6,  83.4,\n",
       "        60.3,  79.4,  60.7,  63.5,  59.5,  32.5,  83.6,  55.2,  72.9,\n",
       "        57.6,  81. ,  93.1,  68.8,  52.2,  64.8,  59.7,  75.1,  53.3,\n",
       "        36.5,  48.9,  61.5,  58.4,  35.6,  40.7,  77.5,  75.2,  61.2,\n",
       "        48.2,  62.7,  63.6,  98.8,  72.8,  82.7,  78.3,  43.2,  74.9,\n",
       "        54.5,  31.2,  46.1,  67.9,  62.9,  66.7,  96.5,  71.9,  49. ,\n",
       "        69. ,  51.6,  78.6,  76.4,  66.8,  66.3,  54.2,  68.3,  82. ,\n",
       "        62.6,  26.4,  81.1,  76.1,  65.6,  64.2,  47.7,  79. ,  91.4,\n",
       "        41.7,  84.2,  63.1,  93.3,  48.3,  58.9,  31.7,  30.8,  53.4,\n",
       "        91.2,  60.8,  52.3,  43.6,  34.8,  53.8,  57.2,  65.4,  46.7,\n",
       "        79.1,  70.2,  80.7,  50.5,  57.9,  67.4,  36.8,  50.6,  51.4,\n",
       "        48.7,  68.5,  71.1,  52.9,  61.1,  61.3,  69.5,  50.9,  56.9,\n",
       "        99.8,  37.7,  93.7,  86.8,  69.7,  58.5,  60.9,  71. ,  47.4,\n",
       "        44.2,  78.1,  88.2,  79.6,  53.1,  82.9,  85.2,  73.7,  62.2,\n",
       "        83.7,  72.6,  65.3,  58.8,  50.3,  65.1,  75.9,  80.4,  57. ,\n",
       "        72.1,  81.4,  97.5,  80.9,  47.5,  84.1,  75.4,  85.3,  77.7,\n",
       "        87.1,  30.4,  71.8,  54. ,  87.5,  55.5,  72. ,  90.9,  75.7,\n",
       "        84.9,  52.6,  54.7,  50.7,  75.3,  76.8,  51.3,  83. ,  93.4,\n",
       "        56.5,  41.3,  49.8,  86.3,  99.2,  54.6,  80. ,  67.5,  78.8,\n",
       "        92.3,  73.8,  92.6,  79.5,  42.2,  96. ,  37.5,  83.1,  96.4,\n",
       "        70.6,  55.3,  42.5,  66.1,  44.4,  53.6,  80.5,  38.4,  53.5,\n",
       "        67.1,  89.3,  87.4,  33.3,  70.7,  47.9, 104. ,  36.6,  57.4,\n",
       "        26.7,  87.8,  41.1, 101.5,  86. ,  89.4,  76.3,  46.9,  80.3,\n",
       "        45.9,  85.7,  35.5,  81.2,  56.1,  54.3,  89.2,  55. ,  66. ,\n",
       "        50.1,  33. ,  63. ,  77.6, 102.9,  83.9,  31.9,  45.2,  73.2,\n",
       "        69.8,  48. ,  87.7,  53.7,  89.7,  46. ,  93.2,  37. ,  73.4,\n",
       "        90.4,  39. ,  49.9, 101. ,  87.6,  71.6,  82.6,  44.1,  38.2,\n",
       "        71.5,  66.2,  90.2,  45.1,  90.5,  30.6,  89.9,  31.4,  47. ,\n",
       "        28.6,  83.2,  40.4,  62.5,  84.5,  85.1,  82.3,  40.9,  38.6,\n",
       "        74.7,  78.2,  78.9,  80.6,  38.5,  57.1,  41.4,  87.2,  51.1,\n",
       "        74.6,  80.1,  83.5,  51.9,  68.4,  95.7,  18. ,  89.6,  88.4,\n",
       "        57.3, 103.3,  75.5,  76.2,  78. ,  44.7,  83.3,  46.3,  37.1,\n",
       "        30.2,  94.6,  94.7,  47.2,  95.2,  25.6,  92.9,  42.8,  60.2,\n",
       "        90.3,  99.1,  73.3,  52.7,  42.1,  46.2,  53.9,  84. ,  88.7,\n",
       "        29.3,  91.6,  57.8,  45.8,  69.4,  97.6,  81.3,  82.1,  99. ,\n",
       "        91. ,  38.7,  86.1,  46.4,  96.7,  51.7,  59.1,  74.3,  92.1,\n",
       "        89. ,  95. ,  44.8,  87. , 106.6,  34.5,  63.9,  58.7,  36.1,\n",
       "        95.9,  36. ,  37.6,  80.2,  91.1,  88.6,  94.8,  51.2,  62.3,\n",
       "       101.6,  78.7,  96.8,  76.7,  27. ,  41. ,  84.4,  36.2,  20.7,\n",
       "        98.4,  79.8, 116.6,  75.6,  42.4,  34.6,  45.7,  29.4,  47.6,\n",
       "        39.9,  85.6,  27.7, 102.1, 100.1,  77.1,  54.9,  83.8,  32. ,\n",
       "        95.4,  81.8,  41.5,  88.3,  47.1,  33.2,  72.2, 101.1,  93. ,\n",
       "        77.2,  39.6,  86.9,  52.8,  78.4,  99.3,  66.4,  81.9,  21.7,\n",
       "        43.3,  44.6,  33.1,  41.9,  90.1,  31.8,  97.4,  39.2,  53.2,\n",
       "        77.9,  36.3,  90.6,  37.2,  91.8,  45.3,  32.9,  25.8, 100.9,\n",
       "        42.6,  99.6,  89.8,  94.5,  88. ,  89.1,  27.4,  92.8,  33.8,\n",
       "        64.9, 103.9,  88.9,  32.6,  31.5,  73.5,  36.4, 115.9,  38. ,\n",
       "        45. ,  42.7,  36.7,  38.9,  36.9,  70.4,  86.4,  28.5,  96.1,\n",
       "        91.3,  86.7,  33.5, 101.7,  35. ,  34.4,  42. ,  50.8,  34.3,\n",
       "        27.1,  98.9,  75.8,  35.4,  40.2,  37.3,  97.3, 110.8, 107.2,\n",
       "        37.9,  34.9,  45.4,  46.8,  85.8,  43.9,  38.8, 103. ,  40.5,\n",
       "        44.5,  50. ,  90.7,  94. ,  86.5,  97.1,  45.6,  27.6,  43.4,\n",
       "        35.9,  13.6,  24.2,  25.2, 112.1,  91.7,  41.8, 107.3,  40.3,\n",
       "        85.5,  87.9,  84.7,  24.8,  79.7,  39.7, 102.2,  90.8, 107.9,\n",
       "        99.5, 102.5,  31. ,  92.2,  40.1,  27.8,  88.1,  38.1, 107.1,\n",
       "       108.4, 110.4,  88.5,  94.3,  96.3,  33.4,  97.9,  33.7,  35.7,\n",
       "       115.8,  31.3,  97. ,  32.8,  26.1,  17.8,  20.8,  29.7,  85.9,\n",
       "       105.4,  28.1,  27.2, 108.9,  79.9,  22.7, 107.8, 100.6,  15.4,\n",
       "        29.9,  20.1, 108.1, 104.2, 109.6, 100.8,  99.9,  32.1,  35.8,\n",
       "        43.5,  94.2,  88.8,  41.6,  33.9,  93.5,  24.6,  26.6,  32.3,\n",
       "        39.5, 110.6,  99.4,  90. , 102.4,  29.2,  23. ,  35.3,  25.4,\n",
       "        29.1,  21. ,  77.4,  37.4, 104.8, 114.6, 100.4,  98.5,  92.4,\n",
       "       108.2,  30.5, 100.7,  28.4,  98.1,  34. ,  98.6, 106.8,  19.5,\n",
       "        31.6,  29.8,  43.8,  99.7,  38.3, 111.3,  28.8,  33.6,  19.8,\n",
       "        25.7, 100.2, 105.2, 106.9, 122.4,  30. , 100.3, 120.6,  23.3,\n",
       "        35.2,  25.1,  96.9,  32.4,  22.5,  29.5,  32.2, 112. ,  92. ,\n",
       "        95.3,  97.7,  28.7,  21.8, 105. ,  24.4,  24.1,  30.9, 104.9,\n",
       "        27.9,  14.6,  95.6, 108.5, 117.4,  96.6, 107.4, 104.6, 105.6,\n",
       "       117.8,  32.7,  23.9, 109.3, 105.9,  96.2,  30.3, 120.7, 105.3,\n",
       "       104.4, 101.8,  24. ,  24.9,  93.8,  22.8, 103.5,  98.7, 102.3,\n",
       "        95.5,  22.1, 114.4,  18.5, 100.5,  22.9, 110.2, 120.4, 118.9,\n",
       "       111.1,  27.3, 102.8,  22.6,  26.8, 114.8,  19.4,  98.3, 109.7,\n",
       "        28.9,   9.7, 103.6, 101.2,  30.1, 105.5, 105.1, 111. , 111.7,\n",
       "         9.4,  27.5,  20.6, 107.7,  28. , 108. ,  18.7,  26.3,  26.5,\n",
       "       121.5, 113.4,  21.5, 106.2, 110. ,  21.2,  24.5, 110.9, 106.3,\n",
       "       104.3,  22.2, 104.5, 118.4,  25.3, 102.6,  24.7, 106.7, 110.1,\n",
       "       111.2, 100. , 116. ,  29.6, 113.9,  21.3,  31.1, 101.3,  16.3,\n",
       "        23.2,  10.6, 103.2, 105.8, 111.6, 103.8, 113.1, 108.3,  21.4,\n",
       "        26. , 103.1,  25.5,  16.4, 118.2, 104.1, 111.9,  19.6,  23.7,\n",
       "        15.3,  14. , 101.9, 103.4, 109.1,  15.2, 114.3, 128. , 107.5,\n",
       "       102.7,  24.3, 112.7,  15.9, 116.4,  14.3, 111.8, 106.4,  18.1,\n",
       "        20.2, 107. ,   8.3, 101.4,  15.8, 106.5,  18.6,  17. , 108.8,\n",
       "        13. ,  16.8,  23.6,  13.8,  23.4, 115.6,  13.5, 104.7,  20.4,\n",
       "        18.4,   9.5, 116.7,  25.9, 103.7, 109.2,  18.2,  20.5,  28.3,\n",
       "       110.7, 107.6,  18.8])"
      ]
     },
     "execution_count": 25,
     "metadata": {},
     "output_type": "execute_result"
    }
   ],
   "source": [
    "df.Previous_Grades.unique()"
   ]
  },
  {
   "cell_type": "code",
   "execution_count": 26,
   "id": "0b020f16-b2b2-4caa-b26e-bedd1e160476",
   "metadata": {},
   "outputs": [],
   "source": [
    "df.Previous_Grades.fillna(df.Previous_Grades.median(),inplace=True)"
   ]
  },
  {
   "cell_type": "code",
   "execution_count": 27,
   "id": "88ebbb8c-347e-4148-9993-096e3223afe3",
   "metadata": {},
   "outputs": [
    {
     "data": {
      "text/plain": [
       "0"
      ]
     },
     "execution_count": 27,
     "metadata": {},
     "output_type": "execute_result"
    }
   ],
   "source": [
    "df.Previous_Grades.isna().sum()"
   ]
  },
  {
   "cell_type": "code",
   "execution_count": 28,
   "id": "684724cb-67f3-4490-923c-c23dcd410139",
   "metadata": {},
   "outputs": [
    {
     "data": {
      "text/plain": [
       "array(['Yes', 'No', nan], dtype=object)"
      ]
     },
     "execution_count": 28,
     "metadata": {},
     "output_type": "execute_result"
    }
   ],
   "source": [
    "df.Participation_in_Extracurricular_Activities.unique()"
   ]
  },
  {
   "cell_type": "code",
   "execution_count": 29,
   "id": "7f3f3255-63e7-4ba9-9e21-6f09e8db69ac",
   "metadata": {},
   "outputs": [
    {
     "data": {
      "text/plain": [
       "<Axes: xlabel='Participation_in_Extracurricular_Activities'>"
      ]
     },
     "execution_count": 29,
     "metadata": {},
     "output_type": "execute_result"
    },
    {
     "data": {
      "image/png": "[encoded data removed]",
      "text/plain": [
       "<Figure size 640x480 with 1 Axes>"
      ]
     },
     "metadata": {},
     "output_type": "display_data"
    }
   ],
   "source": [
    "df.Participation_in_Extracurricular_Activities.value_counts().plot(kind=\"bar\")"
   ]
  },
  {
   "cell_type": "code",
   "execution_count": 30,
   "id": "77652d66-bd43-4319-b558-139609238dd9",
   "metadata": {},
   "outputs": [
    {
     "data": {
      "text/plain": [
       "Participation_in_Extracurricular_Activities\n",
       "No     0.4757\n",
       "Yes    0.4743\n",
       "Name: count, dtype: float64"
      ]
     },
     "execution_count": 30,
     "metadata": {},
     "output_type": "execute_result"
    }
   ],
   "source": [
    "df.Participation_in_Extracurricular_Activities.value_counts()/df.shape[0]"
   ]
  },
  {
   "cell_type": "code",
   "execution_count": 31,
   "id": "1cf965e3-8d64-4651-99ba-31c8bea4574d",
   "metadata": {},
   "outputs": [],
   "source": [
    "df=df.dropna(axis=0)"
   ]
  },
  {
   "cell_type": "code",
   "execution_count": 32,
   "id": "682c7511-e83d-44be-91f0-6eb69c842ea8",
   "metadata": {},
   "outputs": [
    {
     "data": {
      "text/plain": [
       "0"
      ]
     },
     "execution_count": 32,
     "metadata": {},
     "output_type": "execute_result"
    }
   ],
   "source": [
    "df.Participation_in_Extracurricular_Activities.isna().sum()"
   ]
  },
  {
   "cell_type": "code",
   "execution_count": 33,
   "id": "a0880fd2-7881-479c-910f-7d2c39076cf8",
   "metadata": {},
   "outputs": [
    {
     "data": {
      "text/plain": [
       "array(['Master', 'High School', 'Associate', 'Bachelor', 'Doctorate'],\n",
       "      dtype=object)"
      ]
     },
     "execution_count": 33,
     "metadata": {},
     "output_type": "execute_result"
    }
   ],
   "source": [
    "df.Parent_Education_Level.unique()"
   ]
  },
  {
   "cell_type": "code",
   "execution_count": 34,
   "id": "5e76a99d-432b-40f8-9157-deeae78e2faf",
   "metadata": {},
   "outputs": [
    {
     "data": {
      "text/plain": [
       "<Axes: xlabel='Parent_Education_Level'>"
      ]
     },
     "execution_count": 34,
     "metadata": {},
     "output_type": "execute_result"
    },
    {
     "data": {
      "image/png": "[encoded data removed]",
      "text/plain": [
       "<Figure size 640x480 with 1 Axes>"
      ]
     },
     "metadata": {},
     "output_type": "display_data"
    }
   ],
   "source": [
    "df.Parent_Education_Level.value_counts().plot(kind=\"bar\")"
   ]
  },
  {
   "cell_type": "code",
   "execution_count": 35,
   "id": "5de3eaed-0d4a-4b6f-a312-e2b897c1defe",
   "metadata": {},
   "outputs": [
    {
     "data": {
      "text/plain": [
       "0"
      ]
     },
     "execution_count": 35,
     "metadata": {},
     "output_type": "execute_result"
    }
   ],
   "source": [
    "df.Parent_Education_Level.isna().sum()"
   ]
  },
  {
   "cell_type": "code",
   "execution_count": 36,
   "id": "a32c8ed7-74a7-4a47-9cc1-0c16db029060",
   "metadata": {},
   "outputs": [
    {
     "data": {
      "text/plain": [
       "0.05"
      ]
     },
     "execution_count": 36,
     "metadata": {},
     "output_type": "execute_result"
    }
   ],
   "source": [
    "(2000/40000)"
   ]
  },
  {
   "cell_type": "code",
   "execution_count": 37,
   "id": "b365df21-b5f8-4c15-a1ee-48ee2482faa9",
   "metadata": {},
   "outputs": [],
   "source": [
    "df[\"Parent_Education_Level\"]=df[\"Parent_Education_Level\"].fillna(df[\"Parent_Education_Level\"].mode())"
   ]
  },
  {
   "cell_type": "code",
   "execution_count": 38,
   "id": "b1617255-d84e-48b7-aca1-eb3fde1d746f",
   "metadata": {},
   "outputs": [],
   "source": [
    "df=df.dropna(axis=0)"
   ]
  },
  {
   "cell_type": "code",
   "execution_count": 39,
   "id": "de2c3b1e-5479-432a-ae63-d9ec9ffe0e79",
   "metadata": {},
   "outputs": [
    {
     "data": {
      "text/plain": [
       "0"
      ]
     },
     "execution_count": 39,
     "metadata": {},
     "output_type": "execute_result"
    }
   ],
   "source": [
    "df.Parent_Education_Level.isna().sum()"
   ]
  },
  {
   "cell_type": "code",
   "execution_count": 40,
   "id": "9eb77423-14d3-49fa-b0b2-888293ed7450",
   "metadata": {},
   "outputs": [
    {
     "data": {
      "text/plain": [
       "study_hours                                    0\n",
       "Attendance_Rate                                0\n",
       "Previous_Grades                                0\n",
       "Participation_in_Extracurricular_Activities    0\n",
       "Parent_Education_Level                         0\n",
       "Passed                                         0\n",
       "dtype: int64"
      ]
     },
     "execution_count": 40,
     "metadata": {},
     "output_type": "execute_result"
    }
   ],
   "source": [
    "df.isna().sum()"
   ]
  },
  {
   "cell_type": "markdown",
   "id": "c5c006ca-732a-4e69-9f6b-3c6d34ba5e29",
   "metadata": {},
   "source": [
    "# Detecting and removing the outliers from every column."
   ]
  },
  {
   "cell_type": "markdown",
   "id": "09458317-60b3-4b9e-9da7-593040d30411",
   "metadata": {},
   "source": [
    "# 1.."
   ]
  },
  {
   "cell_type": "code",
   "execution_count": 41,
   "id": "b36e43fe-e0b2-4b79-a51a-e4eeec9dc8e3",
   "metadata": {},
   "outputs": [
    {
     "data": {
      "image/png": "[encoded data removed]",
      "text/plain": [
       "<Figure size 640x480 with 1 Axes>"
      ]
     },
     "metadata": {},
     "output_type": "display_data"
    }
   ],
   "source": [
    "sns.boxplot(df.study_hours)\n",
    "plt.show()"
   ]
  },
  {
   "cell_type": "code",
   "execution_count": 42,
   "id": "bf7df61c-df79-48d0-81f7-eca1066704b8",
   "metadata": {},
   "outputs": [],
   "source": [
    "q1=df[\"study_hours\"].quantile(0.25)\n",
    "q3=df[\"study_hours\"].quantile(0.75)\n",
    "\n",
    "IQR=q3-q1"
   ]
  },
  {
   "cell_type": "code",
   "execution_count": 43,
   "id": "daa1cabf-381a-418b-89a3-2058f1d4afd4",
   "metadata": {},
   "outputs": [
    {
     "data": {
      "text/plain": [
       "(-2.6499999999999995, 22.549999999999997)"
      ]
     },
     "execution_count": 43,
     "metadata": {},
     "output_type": "execute_result"
    }
   ],
   "source": [
    "lb=q1-1.5*IQR\n",
    "ub=q3+1.5*IQR\n",
    "lb,ub"
   ]
  },
  {
   "cell_type": "code",
   "execution_count": 44,
   "id": "f213b7f6-dec8-46e0-bc76-c78a9338ca16",
   "metadata": {},
   "outputs": [
    {
     "data": {
      "text/html": [
       "<div>\n",
       "<style scoped>\n",
       "    .dataframe tbody tr th:only-of-type {\n",
       "        vertical-align: middle;\n",
       "    }\n",
       "\n",
       "    .dataframe tbody tr th {\n",
       "        vertical-align: top;\n",
       "    }\n",
       "\n",
       "    .dataframe thead th {\n",
       "        text-align: right;\n",
       "    }\n",
       "</style>\n",
       "<table border=\"1\" class=\"dataframe\">\n",
       "  <thead>\n",
       "    <tr style=\"text-align: right;\">\n",
       "      <th></th>\n",
       "      <th>study_hours</th>\n",
       "      <th>Attendance_Rate</th>\n",
       "      <th>Previous_Grades</th>\n",
       "      <th>Participation_in_Extracurricular_Activities</th>\n",
       "      <th>Parent_Education_Level</th>\n",
       "      <th>Passed</th>\n",
       "    </tr>\n",
       "  </thead>\n",
       "  <tbody>\n",
       "    <tr>\n",
       "      <th>74</th>\n",
       "      <td>-3.1</td>\n",
       "      <td>37.3</td>\n",
       "      <td>43.1</td>\n",
       "      <td>No</td>\n",
       "      <td>Master</td>\n",
       "      <td>Yes</td>\n",
       "    </tr>\n",
       "    <tr>\n",
       "      <th>209</th>\n",
       "      <td>29.3</td>\n",
       "      <td>75.3</td>\n",
       "      <td>55.1</td>\n",
       "      <td>Yes</td>\n",
       "      <td>Bachelor</td>\n",
       "      <td>Yes</td>\n",
       "    </tr>\n",
       "    <tr>\n",
       "      <th>262</th>\n",
       "      <td>-6.2</td>\n",
       "      <td>98.7</td>\n",
       "      <td>26.2</td>\n",
       "      <td>Yes</td>\n",
       "      <td>High School</td>\n",
       "      <td>Yes</td>\n",
       "    </tr>\n",
       "    <tr>\n",
       "      <th>478</th>\n",
       "      <td>25.4</td>\n",
       "      <td>84.5</td>\n",
       "      <td>53.0</td>\n",
       "      <td>No</td>\n",
       "      <td>High School</td>\n",
       "      <td>Yes</td>\n",
       "    </tr>\n",
       "    <tr>\n",
       "      <th>646</th>\n",
       "      <td>-3.5</td>\n",
       "      <td>118.0</td>\n",
       "      <td>92.6</td>\n",
       "      <td>No</td>\n",
       "      <td>Doctorate</td>\n",
       "      <td>No</td>\n",
       "    </tr>\n",
       "    <tr>\n",
       "      <th>...</th>\n",
       "      <td>...</td>\n",
       "      <td>...</td>\n",
       "      <td>...</td>\n",
       "      <td>...</td>\n",
       "      <td>...</td>\n",
       "      <td>...</td>\n",
       "    </tr>\n",
       "    <tr>\n",
       "      <th>39616</th>\n",
       "      <td>-7.2</td>\n",
       "      <td>97.8</td>\n",
       "      <td>46.3</td>\n",
       "      <td>Yes</td>\n",
       "      <td>High School</td>\n",
       "      <td>No</td>\n",
       "    </tr>\n",
       "    <tr>\n",
       "      <th>39624</th>\n",
       "      <td>23.0</td>\n",
       "      <td>96.9</td>\n",
       "      <td>43.6</td>\n",
       "      <td>Yes</td>\n",
       "      <td>High School</td>\n",
       "      <td>No</td>\n",
       "    </tr>\n",
       "    <tr>\n",
       "      <th>39660</th>\n",
       "      <td>22.9</td>\n",
       "      <td>80.1</td>\n",
       "      <td>80.7</td>\n",
       "      <td>No</td>\n",
       "      <td>Master</td>\n",
       "      <td>Yes</td>\n",
       "    </tr>\n",
       "    <tr>\n",
       "      <th>39838</th>\n",
       "      <td>26.5</td>\n",
       "      <td>75.3</td>\n",
       "      <td>69.3</td>\n",
       "      <td>Yes</td>\n",
       "      <td>Associate</td>\n",
       "      <td>Yes</td>\n",
       "    </tr>\n",
       "    <tr>\n",
       "      <th>39988</th>\n",
       "      <td>23.6</td>\n",
       "      <td>72.9</td>\n",
       "      <td>65.9</td>\n",
       "      <td>Yes</td>\n",
       "      <td>High School</td>\n",
       "      <td>Yes</td>\n",
       "    </tr>\n",
       "  </tbody>\n",
       "</table>\n",
       "<p>393 rows × 6 columns</p>\n",
       "</div>"
      ],
      "text/plain": [
       "       study_hours  Attendance_Rate  Previous_Grades  \\\n",
       "74            -3.1             37.3             43.1   \n",
       "209           29.3             75.3             55.1   \n",
       "262           -6.2             98.7             26.2   \n",
       "478           25.4             84.5             53.0   \n",
       "646           -3.5            118.0             92.6   \n",
       "...            ...              ...              ...   \n",
       "39616         -7.2             97.8             46.3   \n",
       "39624         23.0             96.9             43.6   \n",
       "39660         22.9             80.1             80.7   \n",
       "39838         26.5             75.3             69.3   \n",
       "39988         23.6             72.9             65.9   \n",
       "\n",
       "      Participation_in_Extracurricular_Activities Parent_Education_Level  \\\n",
       "74                                             No                 Master   \n",
       "209                                           Yes               Bachelor   \n",
       "262                                           Yes            High School   \n",
       "478                                            No            High School   \n",
       "646                                            No              Doctorate   \n",
       "...                                           ...                    ...   \n",
       "39616                                         Yes            High School   \n",
       "39624                                         Yes            High School   \n",
       "39660                                          No                 Master   \n",
       "39838                                         Yes              Associate   \n",
       "39988                                         Yes            High School   \n",
       "\n",
       "      Passed  \n",
       "74       Yes  \n",
       "209      Yes  \n",
       "262      Yes  \n",
       "478      Yes  \n",
       "646       No  \n",
       "...      ...  \n",
       "39616     No  \n",
       "39624     No  \n",
       "39660    Yes  \n",
       "39838    Yes  \n",
       "39988    Yes  \n",
       "\n",
       "[393 rows x 6 columns]"
      ]
     },
     "execution_count": 44,
     "metadata": {},
     "output_type": "execute_result"
    }
   ],
   "source": [
    "df.loc[(df[\"study_hours\"] > ub) | (df[\"study_hours\"] < lb)]\n"
   ]
  },
  {
   "cell_type": "code",
   "execution_count": 45,
   "id": "50b004d3-00ed-47fc-bce3-c141b782c0e3",
   "metadata": {},
   "outputs": [
    {
     "name": "stdout",
     "output_type": "stream",
     "text": [
      "before removing outliers: 34306\n",
      "after removing outliers: 33913\n",
      "outliers: 393\n"
     ]
    }
   ],
   "source": [
    "df1=df.loc[(df[\"study_hours\"] < ub) & (df[\"study_hours\"] > lb)]\n",
    "print(\"before removing outliers:\",len(df))\n",
    "print(\"after removing outliers:\",len(df1))\n",
    "print(\"outliers:\",len(df)-len(df1))"
   ]
  },
  {
   "cell_type": "code",
   "execution_count": 46,
   "id": "1c5f3a87-f6f0-4518-b942-29ee68fc4285",
   "metadata": {},
   "outputs": [],
   "source": [
    "df1=df.copy()\n",
    "df1.loc[(df1[\"study_hours\"]>ub), \"study_hours\"]=ub\n",
    "df1.loc[(df1[\"study_hours\"]<lb), \"study_hours\"]=lb"
   ]
  },
  {
   "cell_type": "code",
   "execution_count": 47,
   "id": "d89f2ba7-50c9-4b26-b743-7cd5090c3f64",
   "metadata": {},
   "outputs": [
    {
     "data": {
      "image/png": "[encoded data removed]",
      "text/plain": [
       "<Figure size 640x480 with 1 Axes>"
      ]
     },
     "metadata": {},
     "output_type": "display_data"
    }
   ],
   "source": [
    "sns.boxplot(df1.study_hours)\n",
    "plt.show()"
   ]
  },
  {
   "cell_type": "markdown",
   "id": "7d674077-34de-47c3-84cf-cdbeffab7802",
   "metadata": {},
   "source": [
    "# 2.."
   ]
  },
  {
   "cell_type": "code",
   "execution_count": 48,
   "id": "007f6474-de1e-401f-80c7-70ed0c5ac230",
   "metadata": {},
   "outputs": [
    {
     "data": {
      "image/png": "[encoded data removed]",
      "text/plain": [
       "<Figure size 640x480 with 1 Axes>"
      ]
     },
     "metadata": {},
     "output_type": "display_data"
    }
   ],
   "source": [
    "sns.boxplot(df.Attendance_Rate)\n",
    "plt.show()"
   ]
  },
  {
   "cell_type": "code",
   "execution_count": 49,
   "id": "e49078ed-0fb6-4434-9ea6-397ba83c7541",
   "metadata": {},
   "outputs": [],
   "source": [
    "q1=df[\"Attendance_Rate\"].quantile(0.25)\n",
    "q3=df[\"Attendance_Rate\"].quantile(0.75)\n",
    "\n",
    "IQR=q3-q1"
   ]
  },
  {
   "cell_type": "code",
   "execution_count": 50,
   "id": "9151cfc1-3d2f-4d56-95a8-0959f4481ab5",
   "metadata": {},
   "outputs": [],
   "source": [
    "lb=q1-1.5*IQR\n",
    "ub=q3+1.5*IQR"
   ]
  },
  {
   "cell_type": "code",
   "execution_count": 51,
   "id": "ee215613-0fbb-499a-805a-fac7075961af",
   "metadata": {},
   "outputs": [
    {
     "data": {
      "text/html": [
       "<div>\n",
       "<style scoped>\n",
       "    .dataframe tbody tr th:only-of-type {\n",
       "        vertical-align: middle;\n",
       "    }\n",
       "\n",
       "    .dataframe tbody tr th {\n",
       "        vertical-align: top;\n",
       "    }\n",
       "\n",
       "    .dataframe thead th {\n",
       "        text-align: right;\n",
       "    }\n",
       "</style>\n",
       "<table border=\"1\" class=\"dataframe\">\n",
       "  <thead>\n",
       "    <tr style=\"text-align: right;\">\n",
       "      <th></th>\n",
       "      <th>study_hours</th>\n",
       "      <th>Attendance_Rate</th>\n",
       "      <th>Previous_Grades</th>\n",
       "      <th>Participation_in_Extracurricular_Activities</th>\n",
       "      <th>Parent_Education_Level</th>\n",
       "      <th>Passed</th>\n",
       "    </tr>\n",
       "  </thead>\n",
       "  <tbody>\n",
       "    <tr>\n",
       "      <th>50</th>\n",
       "      <td>11.6</td>\n",
       "      <td>127.4</td>\n",
       "      <td>71.3</td>\n",
       "      <td>Yes</td>\n",
       "      <td>High School</td>\n",
       "      <td>Yes</td>\n",
       "    </tr>\n",
       "    <tr>\n",
       "      <th>77</th>\n",
       "      <td>8.5</td>\n",
       "      <td>128.0</td>\n",
       "      <td>55.7</td>\n",
       "      <td>Yes</td>\n",
       "      <td>Bachelor</td>\n",
       "      <td>Yes</td>\n",
       "    </tr>\n",
       "    <tr>\n",
       "      <th>154</th>\n",
       "      <td>11.5</td>\n",
       "      <td>17.2</td>\n",
       "      <td>63.7</td>\n",
       "      <td>Yes</td>\n",
       "      <td>Bachelor</td>\n",
       "      <td>No</td>\n",
       "    </tr>\n",
       "    <tr>\n",
       "      <th>791</th>\n",
       "      <td>11.0</td>\n",
       "      <td>131.5</td>\n",
       "      <td>55.0</td>\n",
       "      <td>No</td>\n",
       "      <td>Bachelor</td>\n",
       "      <td>No</td>\n",
       "    </tr>\n",
       "    <tr>\n",
       "      <th>912</th>\n",
       "      <td>10.0</td>\n",
       "      <td>21.3</td>\n",
       "      <td>68.0</td>\n",
       "      <td>No</td>\n",
       "      <td>Bachelor</td>\n",
       "      <td>Yes</td>\n",
       "    </tr>\n",
       "    <tr>\n",
       "      <th>...</th>\n",
       "      <td>...</td>\n",
       "      <td>...</td>\n",
       "      <td>...</td>\n",
       "      <td>...</td>\n",
       "      <td>...</td>\n",
       "      <td>...</td>\n",
       "    </tr>\n",
       "    <tr>\n",
       "      <th>39507</th>\n",
       "      <td>9.5</td>\n",
       "      <td>150.0</td>\n",
       "      <td>70.4</td>\n",
       "      <td>Yes</td>\n",
       "      <td>Associate</td>\n",
       "      <td>Yes</td>\n",
       "    </tr>\n",
       "    <tr>\n",
       "      <th>39552</th>\n",
       "      <td>12.6</td>\n",
       "      <td>128.6</td>\n",
       "      <td>80.5</td>\n",
       "      <td>No</td>\n",
       "      <td>Master</td>\n",
       "      <td>No</td>\n",
       "    </tr>\n",
       "    <tr>\n",
       "      <th>39689</th>\n",
       "      <td>14.6</td>\n",
       "      <td>150.0</td>\n",
       "      <td>88.4</td>\n",
       "      <td>No</td>\n",
       "      <td>Doctorate</td>\n",
       "      <td>No</td>\n",
       "    </tr>\n",
       "    <tr>\n",
       "      <th>39698</th>\n",
       "      <td>13.0</td>\n",
       "      <td>150.0</td>\n",
       "      <td>65.2</td>\n",
       "      <td>No</td>\n",
       "      <td>Bachelor</td>\n",
       "      <td>No</td>\n",
       "    </tr>\n",
       "    <tr>\n",
       "      <th>39888</th>\n",
       "      <td>15.9</td>\n",
       "      <td>12.2</td>\n",
       "      <td>82.7</td>\n",
       "      <td>Yes</td>\n",
       "      <td>Master</td>\n",
       "      <td>No</td>\n",
       "    </tr>\n",
       "  </tbody>\n",
       "</table>\n",
       "<p>418 rows × 6 columns</p>\n",
       "</div>"
      ],
      "text/plain": [
       "       study_hours  Attendance_Rate  Previous_Grades  \\\n",
       "50            11.6            127.4             71.3   \n",
       "77             8.5            128.0             55.7   \n",
       "154           11.5             17.2             63.7   \n",
       "791           11.0            131.5             55.0   \n",
       "912           10.0             21.3             68.0   \n",
       "...            ...              ...              ...   \n",
       "39507          9.5            150.0             70.4   \n",
       "39552         12.6            128.6             80.5   \n",
       "39689         14.6            150.0             88.4   \n",
       "39698         13.0            150.0             65.2   \n",
       "39888         15.9             12.2             82.7   \n",
       "\n",
       "      Participation_in_Extracurricular_Activities Parent_Education_Level  \\\n",
       "50                                            Yes            High School   \n",
       "77                                            Yes               Bachelor   \n",
       "154                                           Yes               Bachelor   \n",
       "791                                            No               Bachelor   \n",
       "912                                            No               Bachelor   \n",
       "...                                           ...                    ...   \n",
       "39507                                         Yes              Associate   \n",
       "39552                                          No                 Master   \n",
       "39689                                          No              Doctorate   \n",
       "39698                                          No               Bachelor   \n",
       "39888                                         Yes                 Master   \n",
       "\n",
       "      Passed  \n",
       "50       Yes  \n",
       "77       Yes  \n",
       "154       No  \n",
       "791       No  \n",
       "912      Yes  \n",
       "...      ...  \n",
       "39507    Yes  \n",
       "39552     No  \n",
       "39689     No  \n",
       "39698     No  \n",
       "39888     No  \n",
       "\n",
       "[418 rows x 6 columns]"
      ]
     },
     "execution_count": 51,
     "metadata": {},
     "output_type": "execute_result"
    }
   ],
   "source": [
    "df.loc[(df[\"Attendance_Rate\"] > ub) | (df[\"Attendance_Rate\"] < lb)]"
   ]
  },
  {
   "cell_type": "code",
   "execution_count": 52,
   "id": "493c2042-3bb5-4fb9-b2c3-df99b63db48b",
   "metadata": {},
   "outputs": [
    {
     "name": "stdout",
     "output_type": "stream",
     "text": [
      "before removing outliers: 34306\n",
      "after removing outliers: 33888\n",
      "outliers: 418\n"
     ]
    }
   ],
   "source": [
    "df1=df.loc[(df[\"Attendance_Rate\"] < ub) & (df[\"Attendance_Rate\"] > lb)]\n",
    "print(\"before removing outliers:\",len(df))\n",
    "print(\"after removing outliers:\",len(df1))\n",
    "print(\"outliers:\",len(df)-len(df1))"
   ]
  },
  {
   "cell_type": "code",
   "execution_count": 53,
   "id": "7f980595-b9be-484f-90f2-86c5b249e3c2",
   "metadata": {},
   "outputs": [],
   "source": [
    "df1=df.copy()\n",
    "df1.loc[(df1[\"Attendance_Rate\"]>ub), \"Attendance_Rate\"]=ub\n",
    "df1.loc[(df1[\"Attendance_Rate\"]<lb), \"Attendance_Rate\"]=lb"
   ]
  },
  {
   "cell_type": "code",
   "execution_count": 54,
   "id": "71528f19-a76b-4c71-9ebb-a99b7fc307a4",
   "metadata": {},
   "outputs": [
    {
     "data": {
      "image/png": "[encoded data removed]",
      "text/plain": [
       "<Figure size 640x480 with 1 Axes>"
      ]
     },
     "metadata": {},
     "output_type": "display_data"
    }
   ],
   "source": [
    "sns.boxplot(df1.Attendance_Rate)\n",
    "plt.show()"
   ]
  },
  {
   "cell_type": "markdown",
   "id": "ce0f288c-01a9-416b-a5c1-98c6e7b430c1",
   "metadata": {},
   "source": [
    "# 3.."
   ]
  },
  {
   "cell_type": "code",
   "execution_count": 55,
   "id": "13c09246-69a3-4855-a1b6-ddf8e9a21179",
   "metadata": {},
   "outputs": [
    {
     "data": {
      "image/png": "[encoded data removed]",
      "text/plain": [
       "<Figure size 640x480 with 1 Axes>"
      ]
     },
     "metadata": {},
     "output_type": "display_data"
    }
   ],
   "source": [
    "sns.boxplot(df1.Previous_Grades)\n",
    "plt.show()"
   ]
  },
  {
   "cell_type": "code",
   "execution_count": 56,
   "id": "5c677f68-75d2-43ce-8afa-eddacbd4420c",
   "metadata": {},
   "outputs": [],
   "source": [
    "q1=df[\"Previous_Grades\"].quantile(0.25)\n",
    "q3=df[\"Previous_Grades\"].quantile(0.75)\n",
    "\n",
    "IQR=q3-q1"
   ]
  },
  {
   "cell_type": "code",
   "execution_count": 57,
   "id": "2acae780-04f7-442f-a7e1-31b1f934f72d",
   "metadata": {},
   "outputs": [],
   "source": [
    "lb=q1-1.5*IQR\n",
    "ub=q3+1.5*IQR"
   ]
  },
  {
   "cell_type": "code",
   "execution_count": 58,
   "id": "ee840ab9-f3b1-4d69-8934-2149f4cdd7a8",
   "metadata": {},
   "outputs": [
    {
     "data": {
      "text/html": [
       "<div>\n",
       "<style scoped>\n",
       "    .dataframe tbody tr th:only-of-type {\n",
       "        vertical-align: middle;\n",
       "    }\n",
       "\n",
       "    .dataframe tbody tr th {\n",
       "        vertical-align: top;\n",
       "    }\n",
       "\n",
       "    .dataframe thead th {\n",
       "        text-align: right;\n",
       "    }\n",
       "</style>\n",
       "<table border=\"1\" class=\"dataframe\">\n",
       "  <thead>\n",
       "    <tr style=\"text-align: right;\">\n",
       "      <th></th>\n",
       "      <th>study_hours</th>\n",
       "      <th>Attendance_Rate</th>\n",
       "      <th>Previous_Grades</th>\n",
       "      <th>Participation_in_Extracurricular_Activities</th>\n",
       "      <th>Parent_Education_Level</th>\n",
       "      <th>Passed</th>\n",
       "    </tr>\n",
       "  </thead>\n",
       "  <tbody>\n",
       "    <tr>\n",
       "      <th>93</th>\n",
       "      <td>8.4</td>\n",
       "      <td>98.9</td>\n",
       "      <td>26.9</td>\n",
       "      <td>No</td>\n",
       "      <td>Doctorate</td>\n",
       "      <td>Yes</td>\n",
       "    </tr>\n",
       "    <tr>\n",
       "      <th>97</th>\n",
       "      <td>11.3</td>\n",
       "      <td>67.3</td>\n",
       "      <td>200.0</td>\n",
       "      <td>Yes</td>\n",
       "      <td>Master</td>\n",
       "      <td>Yes</td>\n",
       "    </tr>\n",
       "    <tr>\n",
       "      <th>262</th>\n",
       "      <td>-6.2</td>\n",
       "      <td>98.7</td>\n",
       "      <td>26.2</td>\n",
       "      <td>Yes</td>\n",
       "      <td>High School</td>\n",
       "      <td>Yes</td>\n",
       "    </tr>\n",
       "    <tr>\n",
       "      <th>318</th>\n",
       "      <td>11.6</td>\n",
       "      <td>100.1</td>\n",
       "      <td>200.0</td>\n",
       "      <td>Yes</td>\n",
       "      <td>Bachelor</td>\n",
       "      <td>Yes</td>\n",
       "    </tr>\n",
       "    <tr>\n",
       "      <th>379</th>\n",
       "      <td>6.0</td>\n",
       "      <td>86.1</td>\n",
       "      <td>26.4</td>\n",
       "      <td>Yes</td>\n",
       "      <td>Associate</td>\n",
       "      <td>No</td>\n",
       "    </tr>\n",
       "    <tr>\n",
       "      <th>...</th>\n",
       "      <td>...</td>\n",
       "      <td>...</td>\n",
       "      <td>...</td>\n",
       "      <td>...</td>\n",
       "      <td>...</td>\n",
       "      <td>...</td>\n",
       "    </tr>\n",
       "    <tr>\n",
       "      <th>39576</th>\n",
       "      <td>16.7</td>\n",
       "      <td>92.3</td>\n",
       "      <td>20.6</td>\n",
       "      <td>Yes</td>\n",
       "      <td>Associate</td>\n",
       "      <td>No</td>\n",
       "    </tr>\n",
       "    <tr>\n",
       "      <th>39678</th>\n",
       "      <td>9.3</td>\n",
       "      <td>71.3</td>\n",
       "      <td>18.8</td>\n",
       "      <td>No</td>\n",
       "      <td>Associate</td>\n",
       "      <td>No</td>\n",
       "    </tr>\n",
       "    <tr>\n",
       "      <th>39732</th>\n",
       "      <td>16.5</td>\n",
       "      <td>99.3</td>\n",
       "      <td>25.6</td>\n",
       "      <td>No</td>\n",
       "      <td>Associate</td>\n",
       "      <td>Yes</td>\n",
       "    </tr>\n",
       "    <tr>\n",
       "      <th>39797</th>\n",
       "      <td>14.6</td>\n",
       "      <td>90.0</td>\n",
       "      <td>107.2</td>\n",
       "      <td>No</td>\n",
       "      <td>Doctorate</td>\n",
       "      <td>No</td>\n",
       "    </tr>\n",
       "    <tr>\n",
       "      <th>39890</th>\n",
       "      <td>10.0</td>\n",
       "      <td>48.4</td>\n",
       "      <td>115.8</td>\n",
       "      <td>No</td>\n",
       "      <td>Doctorate</td>\n",
       "      <td>Yes</td>\n",
       "    </tr>\n",
       "  </tbody>\n",
       "</table>\n",
       "<p>468 rows × 6 columns</p>\n",
       "</div>"
      ],
      "text/plain": [
       "       study_hours  Attendance_Rate  Previous_Grades  \\\n",
       "93             8.4             98.9             26.9   \n",
       "97            11.3             67.3            200.0   \n",
       "262           -6.2             98.7             26.2   \n",
       "318           11.6            100.1            200.0   \n",
       "379            6.0             86.1             26.4   \n",
       "...            ...              ...              ...   \n",
       "39576         16.7             92.3             20.6   \n",
       "39678          9.3             71.3             18.8   \n",
       "39732         16.5             99.3             25.6   \n",
       "39797         14.6             90.0            107.2   \n",
       "39890         10.0             48.4            115.8   \n",
       "\n",
       "      Participation_in_Extracurricular_Activities Parent_Education_Level  \\\n",
       "93                                             No              Doctorate   \n",
       "97                                            Yes                 Master   \n",
       "262                                           Yes            High School   \n",
       "318                                           Yes               Bachelor   \n",
       "379                                           Yes              Associate   \n",
       "...                                           ...                    ...   \n",
       "39576                                         Yes              Associate   \n",
       "39678                                          No              Associate   \n",
       "39732                                          No              Associate   \n",
       "39797                                          No              Doctorate   \n",
       "39890                                          No              Doctorate   \n",
       "\n",
       "      Passed  \n",
       "93       Yes  \n",
       "97       Yes  \n",
       "262      Yes  \n",
       "318      Yes  \n",
       "379       No  \n",
       "...      ...  \n",
       "39576     No  \n",
       "39678     No  \n",
       "39732    Yes  \n",
       "39797     No  \n",
       "39890    Yes  \n",
       "\n",
       "[468 rows x 6 columns]"
      ]
     },
     "execution_count": 58,
     "metadata": {},
     "output_type": "execute_result"
    }
   ],
   "source": [
    "df.loc[(df[\"Previous_Grades\"] > ub) | (df[\"Previous_Grades\"] < lb)]"
   ]
  },
  {
   "cell_type": "code",
   "execution_count": 59,
   "id": "7cf4a25d-bdff-482a-ac7d-504f2581ef29",
   "metadata": {},
   "outputs": [
    {
     "name": "stdout",
     "output_type": "stream",
     "text": [
      "before removing outliers: 34306\n",
      "after removing outliers: 33838\n",
      "outliers: 468\n"
     ]
    }
   ],
   "source": [
    "df1=df.loc[(df[\"Previous_Grades\"] < ub) & (df[\"Previous_Grades\"] > lb)]\n",
    "print(\"before removing outliers:\",len(df))\n",
    "print(\"after removing outliers:\",len(df1))\n",
    "print(\"outliers:\",len(df)-len(df1))"
   ]
  },
  {
   "cell_type": "code",
   "execution_count": 60,
   "id": "0b03a432-5a78-4e37-ac6f-f6f679ce1159",
   "metadata": {},
   "outputs": [],
   "source": [
    "df1=df.copy()\n",
    "df1.loc[(df1[\"Previous_Grades\"]>ub), \"Previous_Grades\"]=ub\n",
    "df1.loc[(df1[\"Previous_Grades\"]<lb), \"Previous_Grades\"]=lb"
   ]
  },
  {
   "cell_type": "code",
   "execution_count": 61,
   "id": "94713e17-32d7-4591-9d5a-2d09bf89d7c8",
   "metadata": {},
   "outputs": [
    {
     "data": {
      "image/png": "[encoded data removed]",
      "text/plain": [
       "<Figure size 640x480 with 1 Axes>"
      ]
     },
     "metadata": {},
     "output_type": "display_data"
    }
   ],
   "source": [
    "sns.boxplot(df1.Previous_Grades)\n",
    "plt.show()"
   ]
  },
  {
   "cell_type": "markdown",
   "id": "19152823-294a-46e8-a5cc-efbf4b2737cb",
   "metadata": {},
   "source": [
    "# Encoding to transform the data"
   ]
  },
  {
   "cell_type": "code",
   "execution_count": 62,
   "id": "1ac88e65-10c2-4363-9c53-dd71977dbabf",
   "metadata": {},
   "outputs": [],
   "source": [
    "from sklearn.preprocessing import LabelEncoder\n",
    "lb=LabelEncoder()"
   ]
  },
  {
   "cell_type": "code",
   "execution_count": 63,
   "id": "aa78fd82-1cca-4f23-857a-872abbb47cc9",
   "metadata": {},
   "outputs": [
    {
     "data": {
      "text/html": [
       "<div>\n",
       "<style scoped>\n",
       "    .dataframe tbody tr th:only-of-type {\n",
       "        vertical-align: middle;\n",
       "    }\n",
       "\n",
       "    .dataframe tbody tr th {\n",
       "        vertical-align: top;\n",
       "    }\n",
       "\n",
       "    .dataframe thead th {\n",
       "        text-align: right;\n",
       "    }\n",
       "</style>\n",
       "<table border=\"1\" class=\"dataframe\">\n",
       "  <thead>\n",
       "    <tr style=\"text-align: right;\">\n",
       "      <th></th>\n",
       "      <th>Participation_in_Extracurricular_Activities</th>\n",
       "      <th>Parent_Education_Level</th>\n",
       "      <th>Passed</th>\n",
       "    </tr>\n",
       "  </thead>\n",
       "  <tbody>\n",
       "    <tr>\n",
       "      <th>0</th>\n",
       "      <td>Yes</td>\n",
       "      <td>Master</td>\n",
       "      <td>Yes</td>\n",
       "    </tr>\n",
       "  </tbody>\n",
       "</table>\n",
       "</div>"
      ],
      "text/plain": [
       "  Participation_in_Extracurricular_Activities Parent_Education_Level Passed\n",
       "0                                         Yes                 Master    Yes"
      ]
     },
     "execution_count": 63,
     "metadata": {},
     "output_type": "execute_result"
    }
   ],
   "source": [
    "df.select_dtypes(include=\"object\").head(1)"
   ]
  },
  {
   "cell_type": "code",
   "execution_count": 64,
   "id": "a755a621-cc58-4e08-b50e-adfc61fe7d4f",
   "metadata": {},
   "outputs": [],
   "source": [
    "for i in df.select_dtypes(include=\"object\"):\n",
    "    df[i]=lb.fit_transform(df[i])"
   ]
  },
  {
   "cell_type": "code",
   "execution_count": 65,
   "id": "ca0c2cd0-3e83-48ac-8fa4-c8e4415a160b",
   "metadata": {},
   "outputs": [
    {
     "data": {
      "text/html": [
       "<div>\n",
       "<style scoped>\n",
       "    .dataframe tbody tr th:only-of-type {\n",
       "        vertical-align: middle;\n",
       "    }\n",
       "\n",
       "    .dataframe tbody tr th {\n",
       "        vertical-align: top;\n",
       "    }\n",
       "\n",
       "    .dataframe thead th {\n",
       "        text-align: right;\n",
       "    }\n",
       "</style>\n",
       "<table border=\"1\" class=\"dataframe\">\n",
       "  <thead>\n",
       "    <tr style=\"text-align: right;\">\n",
       "      <th></th>\n",
       "      <th>study_hours</th>\n",
       "      <th>Attendance_Rate</th>\n",
       "      <th>Previous_Grades</th>\n",
       "      <th>Participation_in_Extracurricular_Activities</th>\n",
       "      <th>Parent_Education_Level</th>\n",
       "      <th>Passed</th>\n",
       "    </tr>\n",
       "  </thead>\n",
       "  <tbody>\n",
       "    <tr>\n",
       "      <th>0</th>\n",
       "      <td>12.5</td>\n",
       "      <td>75.3</td>\n",
       "      <td>75.0</td>\n",
       "      <td>1</td>\n",
       "      <td>4</td>\n",
       "      <td>1</td>\n",
       "    </tr>\n",
       "    <tr>\n",
       "      <th>1</th>\n",
       "      <td>9.3</td>\n",
       "      <td>95.3</td>\n",
       "      <td>60.6</td>\n",
       "      <td>0</td>\n",
       "      <td>3</td>\n",
       "      <td>0</td>\n",
       "    </tr>\n",
       "    <tr>\n",
       "      <th>2</th>\n",
       "      <td>13.2</td>\n",
       "      <td>75.3</td>\n",
       "      <td>64.0</td>\n",
       "      <td>0</td>\n",
       "      <td>0</td>\n",
       "      <td>0</td>\n",
       "    </tr>\n",
       "    <tr>\n",
       "      <th>3</th>\n",
       "      <td>17.6</td>\n",
       "      <td>76.8</td>\n",
       "      <td>62.4</td>\n",
       "      <td>1</td>\n",
       "      <td>1</td>\n",
       "      <td>0</td>\n",
       "    </tr>\n",
       "    <tr>\n",
       "      <th>4</th>\n",
       "      <td>8.8</td>\n",
       "      <td>89.3</td>\n",
       "      <td>72.7</td>\n",
       "      <td>0</td>\n",
       "      <td>4</td>\n",
       "      <td>0</td>\n",
       "    </tr>\n",
       "  </tbody>\n",
       "</table>\n",
       "</div>"
      ],
      "text/plain": [
       "   study_hours  Attendance_Rate  Previous_Grades  \\\n",
       "0         12.5             75.3             75.0   \n",
       "1          9.3             95.3             60.6   \n",
       "2         13.2             75.3             64.0   \n",
       "3         17.6             76.8             62.4   \n",
       "4          8.8             89.3             72.7   \n",
       "\n",
       "   Participation_in_Extracurricular_Activities  Parent_Education_Level  Passed  \n",
       "0                                            1                       4       1  \n",
       "1                                            0                       3       0  \n",
       "2                                            0                       0       0  \n",
       "3                                            1                       1       0  \n",
       "4                                            0                       4       0  "
      ]
     },
     "execution_count": 65,
     "metadata": {},
     "output_type": "execute_result"
    }
   ],
   "source": [
    "df.head()"
   ]
  },
  {
   "cell_type": "markdown",
   "id": "45965e68-22fe-4b8d-b909-980d7819133e",
   "metadata": {},
   "source": [
    "# 4.."
   ]
  },
  {
   "cell_type": "code",
   "execution_count": 66,
   "id": "80e04c24-446f-4dcd-abc6-c6b7808ff582",
   "metadata": {},
   "outputs": [
    {
     "data": {
      "image/png": "[encoded data removed]",
      "text/plain": [
       "<Figure size 640x480 with 1 Axes>"
      ]
     },
     "metadata": {},
     "output_type": "display_data"
    }
   ],
   "source": [
    "sns.boxplot(df.Passed)\n",
    "plt.show()"
   ]
  },
  {
   "cell_type": "markdown",
   "id": "c83f7df8-b8af-45bf-a0bd-1b66ed08b21f",
   "metadata": {},
   "source": [
    "# check correlation with target variable."
   ]
  },
  {
   "cell_type": "code",
   "execution_count": 67,
   "id": "5f5128f6-27f1-4023-bf0d-b9693099646d",
   "metadata": {},
   "outputs": [],
   "source": [
    "corr=df.corrwith(df.Passed).abs().sort_values(ascending=False)"
   ]
  },
  {
   "cell_type": "code",
   "execution_count": 146,
   "id": "35774212-be10-4b72-bef0-19bf14786630",
   "metadata": {},
   "outputs": [
    {
     "data": {
      "text/plain": [
       "Passed                                         1.000000\n",
       "Attendance_Rate                                0.010909\n",
       "study_hours                                    0.009188\n",
       "Previous_Grades                                0.004679\n",
       "Parent_Education_Level                         0.003295\n",
       "Participation_in_Extracurricular_Activities    0.002681\n",
       "dtype: float64"
      ]
     },
     "execution_count": 146,
     "metadata": {},
     "output_type": "execute_result"
    }
   ],
   "source": [
    "corr"
   ]
  },
  {
   "cell_type": "markdown",
   "id": "a41c9fa7-0292-4d0b-ab90-9fccbcffa102",
   "metadata": {},
   "source": [
    "# splitting the variable x and y into training and testing"
   ]
  },
  {
   "cell_type": "code",
   "execution_count": 68,
   "id": "c39a786a-822f-422d-94af-4c3b88ff1f24",
   "metadata": {},
   "outputs": [],
   "source": [
    "x=df.drop(\"Passed\",axis=1)\n",
    "y=df.Passed"
   ]
  },
  {
   "cell_type": "code",
   "execution_count": 69,
   "id": "98e94c67-2fb3-4338-bc52-a87d8a1ee2a1",
   "metadata": {},
   "outputs": [],
   "source": [
    "from sklearn.model_selection import train_test_split"
   ]
  },
  {
   "cell_type": "code",
   "execution_count": 70,
   "id": "99b1c7e3-8a9b-456f-8deb-4032602e1e2f",
   "metadata": {},
   "outputs": [],
   "source": [
    "x_train,x_test,y_train,y_test=train_test_split(x,y,test_size=0.3,random_state=42)"
   ]
  },
  {
   "cell_type": "code",
   "execution_count": 71,
   "id": "d1950f60-dacf-4da8-b657-3f95a69997c1",
   "metadata": {},
   "outputs": [
    {
     "data": {
      "text/plain": [
       "(24014, 5)"
      ]
     },
     "execution_count": 71,
     "metadata": {},
     "output_type": "execute_result"
    }
   ],
   "source": [
    "x_train.shape"
   ]
  },
  {
   "cell_type": "code",
   "execution_count": 72,
   "id": "93624713-1661-4ce4-acdb-6858939faf45",
   "metadata": {},
   "outputs": [
    {
     "data": {
      "text/plain": [
       "(10292, 5)"
      ]
     },
     "execution_count": 72,
     "metadata": {},
     "output_type": "execute_result"
    }
   ],
   "source": [
    "x_test.shape"
   ]
  },
  {
   "cell_type": "markdown",
   "id": "f7dac3b1-d63b-4a93-b27d-d2aa7cfe40f9",
   "metadata": {},
   "source": [
    "# Decision Tree Classifier"
   ]
  },
  {
   "cell_type": "code",
   "execution_count": 73,
   "id": "788f4991-8419-4bec-ac44-6e7fd529b4fb",
   "metadata": {},
   "outputs": [],
   "source": [
    "from sklearn.tree import DecisionTreeClassifier"
   ]
  },
  {
   "cell_type": "code",
   "execution_count": 74,
   "id": "865da20b-b7b9-4821-9e4a-3d4926616542",
   "metadata": {},
   "outputs": [],
   "source": [
    "dt=DecisionTreeClassifier(criterion=\"entropy\",max_depth=8,max_features=8,min_samples_leaf=6)"
   ]
  },
  {
   "cell_type": "code",
   "execution_count": 75,
   "id": "310e0945-23fe-47c2-974c-4f062cf264fd",
   "metadata": {},
   "outputs": [],
   "source": [
    "dt=dt.fit(x_train,y_train)"
   ]
  },
  {
   "cell_type": "code",
   "execution_count": 76,
   "id": "703caf35-c6d5-4cb8-b906-7e1a52295dc3",
   "metadata": {},
   "outputs": [
    {
     "data": {
      "text/html": [
       "<div>\n",
       "<style scoped>\n",
       "    .dataframe tbody tr th:only-of-type {\n",
       "        vertical-align: middle;\n",
       "    }\n",
       "\n",
       "    .dataframe tbody tr th {\n",
       "        vertical-align: top;\n",
       "    }\n",
       "\n",
       "    .dataframe thead th {\n",
       "        text-align: right;\n",
       "    }\n",
       "</style>\n",
       "<table border=\"1\" class=\"dataframe\">\n",
       "  <thead>\n",
       "    <tr style=\"text-align: right;\">\n",
       "      <th></th>\n",
       "      <th>study_hours</th>\n",
       "      <th>Attendance_Rate</th>\n",
       "      <th>Previous_Grades</th>\n",
       "      <th>Participation_in_Extracurricular_Activities</th>\n",
       "      <th>Parent_Education_Level</th>\n",
       "    </tr>\n",
       "  </thead>\n",
       "  <tbody>\n",
       "    <tr>\n",
       "      <th>14091</th>\n",
       "      <td>8.6</td>\n",
       "      <td>68.4</td>\n",
       "      <td>74.3</td>\n",
       "      <td>1</td>\n",
       "      <td>4</td>\n",
       "    </tr>\n",
       "    <tr>\n",
       "      <th>35419</th>\n",
       "      <td>15.7</td>\n",
       "      <td>103.0</td>\n",
       "      <td>49.8</td>\n",
       "      <td>1</td>\n",
       "      <td>4</td>\n",
       "    </tr>\n",
       "    <tr>\n",
       "      <th>23676</th>\n",
       "      <td>6.3</td>\n",
       "      <td>95.8</td>\n",
       "      <td>97.9</td>\n",
       "      <td>1</td>\n",
       "      <td>0</td>\n",
       "    </tr>\n",
       "    <tr>\n",
       "      <th>25608</th>\n",
       "      <td>4.5</td>\n",
       "      <td>69.4</td>\n",
       "      <td>63.5</td>\n",
       "      <td>0</td>\n",
       "      <td>2</td>\n",
       "    </tr>\n",
       "    <tr>\n",
       "      <th>8556</th>\n",
       "      <td>8.2</td>\n",
       "      <td>78.8</td>\n",
       "      <td>98.0</td>\n",
       "      <td>1</td>\n",
       "      <td>3</td>\n",
       "    </tr>\n",
       "    <tr>\n",
       "      <th>...</th>\n",
       "      <td>...</td>\n",
       "      <td>...</td>\n",
       "      <td>...</td>\n",
       "      <td>...</td>\n",
       "      <td>...</td>\n",
       "    </tr>\n",
       "    <tr>\n",
       "      <th>19695</th>\n",
       "      <td>10.0</td>\n",
       "      <td>66.1</td>\n",
       "      <td>76.2</td>\n",
       "      <td>1</td>\n",
       "      <td>0</td>\n",
       "    </tr>\n",
       "    <tr>\n",
       "      <th>7284</th>\n",
       "      <td>16.2</td>\n",
       "      <td>110.7</td>\n",
       "      <td>71.4</td>\n",
       "      <td>0</td>\n",
       "      <td>1</td>\n",
       "    </tr>\n",
       "    <tr>\n",
       "      <th>13161</th>\n",
       "      <td>8.2</td>\n",
       "      <td>37.3</td>\n",
       "      <td>67.2</td>\n",
       "      <td>1</td>\n",
       "      <td>1</td>\n",
       "    </tr>\n",
       "    <tr>\n",
       "      <th>1005</th>\n",
       "      <td>12.0</td>\n",
       "      <td>59.7</td>\n",
       "      <td>64.2</td>\n",
       "      <td>1</td>\n",
       "      <td>0</td>\n",
       "    </tr>\n",
       "    <tr>\n",
       "      <th>18439</th>\n",
       "      <td>15.5</td>\n",
       "      <td>77.1</td>\n",
       "      <td>64.5</td>\n",
       "      <td>0</td>\n",
       "      <td>0</td>\n",
       "    </tr>\n",
       "  </tbody>\n",
       "</table>\n",
       "<p>24014 rows × 5 columns</p>\n",
       "</div>"
      ],
      "text/plain": [
       "       study_hours  Attendance_Rate  Previous_Grades  \\\n",
       "14091          8.6             68.4             74.3   \n",
       "35419         15.7            103.0             49.8   \n",
       "23676          6.3             95.8             97.9   \n",
       "25608          4.5             69.4             63.5   \n",
       "8556           8.2             78.8             98.0   \n",
       "...            ...              ...              ...   \n",
       "19695         10.0             66.1             76.2   \n",
       "7284          16.2            110.7             71.4   \n",
       "13161          8.2             37.3             67.2   \n",
       "1005          12.0             59.7             64.2   \n",
       "18439         15.5             77.1             64.5   \n",
       "\n",
       "       Participation_in_Extracurricular_Activities  Parent_Education_Level  \n",
       "14091                                            1                       4  \n",
       "35419                                            1                       4  \n",
       "23676                                            1                       0  \n",
       "25608                                            0                       2  \n",
       "8556                                             1                       3  \n",
       "...                                            ...                     ...  \n",
       "19695                                            1                       0  \n",
       "7284                                             0                       1  \n",
       "13161                                            1                       1  \n",
       "1005                                             1                       0  \n",
       "18439                                            0                       0  \n",
       "\n",
       "[24014 rows x 5 columns]"
      ]
     },
     "execution_count": 76,
     "metadata": {},
     "output_type": "execute_result"
    }
   ],
   "source": [
    "x_train"
   ]
  },
  {
   "cell_type": "code",
   "execution_count": 77,
   "id": "244469b6-d448-4272-8efb-3aa2e93dbc2c",
   "metadata": {},
   "outputs": [
    {
     "data": {
      "text/plain": [
       "14091    1\n",
       "35419    1\n",
       "23676    1\n",
       "25608    0\n",
       "8556     1\n",
       "        ..\n",
       "19695    0\n",
       "7284     0\n",
       "13161    0\n",
       "1005     0\n",
       "18439    0\n",
       "Name: Passed, Length: 24014, dtype: int32"
      ]
     },
     "execution_count": 77,
     "metadata": {},
     "output_type": "execute_result"
    }
   ],
   "source": [
    "y_train"
   ]
  },
  {
   "cell_type": "code",
   "execution_count": 78,
   "id": "13d1717c-0c8b-4b0b-9190-2293f90a04f8",
   "metadata": {},
   "outputs": [],
   "source": [
    "pred=dt.predict(x_test)"
   ]
  },
  {
   "cell_type": "code",
   "execution_count": 79,
   "id": "b8c8ff23-fa7f-402e-9d57-b38c87f2d424",
   "metadata": {},
   "outputs": [
    {
     "data": {
      "text/html": [
       "<div>\n",
       "<style scoped>\n",
       "    .dataframe tbody tr th:only-of-type {\n",
       "        vertical-align: middle;\n",
       "    }\n",
       "\n",
       "    .dataframe tbody tr th {\n",
       "        vertical-align: top;\n",
       "    }\n",
       "\n",
       "    .dataframe thead th {\n",
       "        text-align: right;\n",
       "    }\n",
       "</style>\n",
       "<table border=\"1\" class=\"dataframe\">\n",
       "  <thead>\n",
       "    <tr style=\"text-align: right;\">\n",
       "      <th></th>\n",
       "      <th>study_hours</th>\n",
       "      <th>Attendance_Rate</th>\n",
       "      <th>Previous_Grades</th>\n",
       "      <th>Participation_in_Extracurricular_Activities</th>\n",
       "      <th>Parent_Education_Level</th>\n",
       "    </tr>\n",
       "  </thead>\n",
       "  <tbody>\n",
       "    <tr>\n",
       "      <th>5499</th>\n",
       "      <td>18.0</td>\n",
       "      <td>90.6</td>\n",
       "      <td>47.7</td>\n",
       "      <td>1</td>\n",
       "      <td>3</td>\n",
       "    </tr>\n",
       "    <tr>\n",
       "      <th>32806</th>\n",
       "      <td>11.5</td>\n",
       "      <td>105.7</td>\n",
       "      <td>61.3</td>\n",
       "      <td>0</td>\n",
       "      <td>4</td>\n",
       "    </tr>\n",
       "    <tr>\n",
       "      <th>8926</th>\n",
       "      <td>3.2</td>\n",
       "      <td>79.3</td>\n",
       "      <td>84.6</td>\n",
       "      <td>0</td>\n",
       "      <td>3</td>\n",
       "    </tr>\n",
       "    <tr>\n",
       "      <th>6345</th>\n",
       "      <td>10.4</td>\n",
       "      <td>74.8</td>\n",
       "      <td>73.8</td>\n",
       "      <td>1</td>\n",
       "      <td>2</td>\n",
       "    </tr>\n",
       "    <tr>\n",
       "      <th>33133</th>\n",
       "      <td>13.3</td>\n",
       "      <td>101.6</td>\n",
       "      <td>71.4</td>\n",
       "      <td>0</td>\n",
       "      <td>4</td>\n",
       "    </tr>\n",
       "    <tr>\n",
       "      <th>...</th>\n",
       "      <td>...</td>\n",
       "      <td>...</td>\n",
       "      <td>...</td>\n",
       "      <td>...</td>\n",
       "      <td>...</td>\n",
       "    </tr>\n",
       "    <tr>\n",
       "      <th>7912</th>\n",
       "      <td>8.9</td>\n",
       "      <td>79.7</td>\n",
       "      <td>45.6</td>\n",
       "      <td>1</td>\n",
       "      <td>4</td>\n",
       "    </tr>\n",
       "    <tr>\n",
       "      <th>36371</th>\n",
       "      <td>9.9</td>\n",
       "      <td>65.4</td>\n",
       "      <td>77.0</td>\n",
       "      <td>1</td>\n",
       "      <td>0</td>\n",
       "    </tr>\n",
       "    <tr>\n",
       "      <th>35278</th>\n",
       "      <td>5.3</td>\n",
       "      <td>75.3</td>\n",
       "      <td>50.4</td>\n",
       "      <td>1</td>\n",
       "      <td>0</td>\n",
       "    </tr>\n",
       "    <tr>\n",
       "      <th>25804</th>\n",
       "      <td>6.9</td>\n",
       "      <td>62.4</td>\n",
       "      <td>87.6</td>\n",
       "      <td>0</td>\n",
       "      <td>2</td>\n",
       "    </tr>\n",
       "    <tr>\n",
       "      <th>15305</th>\n",
       "      <td>5.1</td>\n",
       "      <td>73.7</td>\n",
       "      <td>97.4</td>\n",
       "      <td>1</td>\n",
       "      <td>2</td>\n",
       "    </tr>\n",
       "  </tbody>\n",
       "</table>\n",
       "<p>10292 rows × 5 columns</p>\n",
       "</div>"
      ],
      "text/plain": [
       "       study_hours  Attendance_Rate  Previous_Grades  \\\n",
       "5499          18.0             90.6             47.7   \n",
       "32806         11.5            105.7             61.3   \n",
       "8926           3.2             79.3             84.6   \n",
       "6345          10.4             74.8             73.8   \n",
       "33133         13.3            101.6             71.4   \n",
       "...            ...              ...              ...   \n",
       "7912           8.9             79.7             45.6   \n",
       "36371          9.9             65.4             77.0   \n",
       "35278          5.3             75.3             50.4   \n",
       "25804          6.9             62.4             87.6   \n",
       "15305          5.1             73.7             97.4   \n",
       "\n",
       "       Participation_in_Extracurricular_Activities  Parent_Education_Level  \n",
       "5499                                             1                       3  \n",
       "32806                                            0                       4  \n",
       "8926                                             0                       3  \n",
       "6345                                             1                       2  \n",
       "33133                                            0                       4  \n",
       "...                                            ...                     ...  \n",
       "7912                                             1                       4  \n",
       "36371                                            1                       0  \n",
       "35278                                            1                       0  \n",
       "25804                                            0                       2  \n",
       "15305                                            1                       2  \n",
       "\n",
       "[10292 rows x 5 columns]"
      ]
     },
     "execution_count": 79,
     "metadata": {},
     "output_type": "execute_result"
    }
   ],
   "source": [
    "x_test"
   ]
  },
  {
   "cell_type": "code",
   "execution_count": 80,
   "id": "93e852fe-3215-4dd1-83bd-b8c8d4bfc04b",
   "metadata": {},
   "outputs": [
    {
     "data": {
      "text/plain": [
       "5499     0\n",
       "32806    1\n",
       "8926     1\n",
       "6345     1\n",
       "33133    1\n",
       "        ..\n",
       "7912     0\n",
       "36371    1\n",
       "35278    1\n",
       "25804    1\n",
       "15305    1\n",
       "Name: Passed, Length: 10292, dtype: int32"
      ]
     },
     "execution_count": 80,
     "metadata": {},
     "output_type": "execute_result"
    }
   ],
   "source": [
    "y_test"
   ]
  },
  {
   "cell_type": "code",
   "execution_count": 81,
   "id": "9a667732-a74a-4774-a042-af5a94c18a84",
   "metadata": {},
   "outputs": [
    {
     "data": {
      "text/plain": [
       "array([0, 0, 1, ..., 1, 0, 0])"
      ]
     },
     "execution_count": 81,
     "metadata": {},
     "output_type": "execute_result"
    }
   ],
   "source": [
    "pred"
   ]
  },
  {
   "cell_type": "markdown",
   "id": "e0913358-cd26-45fe-b98b-49737f0d3b9f",
   "metadata": {},
   "source": [
    "# Import Evaluation matrix for classification "
   ]
  },
  {
   "cell_type": "code",
   "execution_count": 82,
   "id": "e0001ed3-b791-4c5a-a671-4f4454184383",
   "metadata": {},
   "outputs": [],
   "source": [
    "from sklearn.metrics import accuracy_score,classification_report,confusion_matrix"
   ]
  },
  {
   "cell_type": "code",
   "execution_count": 83,
   "id": "6e7c223d-cb4d-4ede-990f-0e750d3c2f6a",
   "metadata": {},
   "outputs": [
    {
     "name": "stdout",
     "output_type": "stream",
     "text": [
      "0.5034006995724835\n"
     ]
    }
   ],
   "source": [
    "print(accuracy_score(y_test,pred))"
   ]
  },
  {
   "cell_type": "code",
   "execution_count": 84,
   "id": "6cd27532-fad9-4455-b770-a48aca6dc814",
   "metadata": {},
   "outputs": [
    {
     "name": "stdout",
     "output_type": "stream",
     "text": [
      "              precision    recall  f1-score   support\n",
      "\n",
      "           0       0.50      0.72      0.59      5143\n",
      "           1       0.51      0.28      0.36      5149\n",
      "\n",
      "    accuracy                           0.50     10292\n",
      "   macro avg       0.50      0.50      0.48     10292\n",
      "weighted avg       0.50      0.50      0.48     10292\n",
      "\n"
     ]
    }
   ],
   "source": [
    "print(classification_report(y_test,pred))"
   ]
  },
  {
   "cell_type": "markdown",
   "id": "8ce0c8d4-f269-432f-a900-1749882a4b71",
   "metadata": {},
   "source": [
    "# Build gridsearchcv model for better stability and accuracy of DecisiontreeClassifier"
   ]
  },
  {
   "cell_type": "code",
   "execution_count": 85,
   "id": "7d8981e5-d271-42ad-b49a-2e19b7bb0fa7",
   "metadata": {},
   "outputs": [],
   "source": [
    "from sklearn.model_selection import  GridSearchCV\n",
    "from sklearn import metrics"
   ]
  },
  {
   "cell_type": "code",
   "execution_count": 86,
   "id": "82b379e2-5687-4750-9a87-b368d356a942",
   "metadata": {},
   "outputs": [],
   "source": [
    "grid = {'max_depth': [5,6,7,8,9,10],\n",
    "        'max_features': [5,6,7,8,9,10,11,12,13,14,15],\n",
    "        'max_leaf_nodes': [3,4,5,6]}"
   ]
  },
  {
   "cell_type": "code",
   "execution_count": 87,
   "id": "0861a65e-ad0d-4725-95ca-f3ae7c665e93",
   "metadata": {},
   "outputs": [],
   "source": [
    "DT_model_GS = GridSearchCV(DecisionTreeClassifier(), param_grid = grid, scoring = 'roc_auc', cv = 5, verbose = True)"
   ]
  },
  {
   "cell_type": "code",
   "execution_count": 88,
   "id": "928c6f22-75ff-4799-88bc-fd77704027a3",
   "metadata": {},
   "outputs": [
    {
     "name": "stdout",
     "output_type": "stream",
     "text": [
      "Fitting 5 folds for each of 264 candidates, totalling 1320 fits\n"
     ]
    }
   ],
   "source": [
    "DT_model_GS = DT_model_GS.fit(x_train,y_train)"
   ]
  },
  {
   "cell_type": "code",
   "execution_count": 89,
   "id": "8a108d1b-eac5-4604-9e70-70b90403a839",
   "metadata": {},
   "outputs": [
    {
     "data": {
      "text/plain": [
       "{'max_depth': 5, 'max_features': 5, 'max_leaf_nodes': 3}"
      ]
     },
     "execution_count": 89,
     "metadata": {},
     "output_type": "execute_result"
    }
   ],
   "source": [
    "DT_model_GS.best_params_"
   ]
  },
  {
   "cell_type": "code",
   "execution_count": 90,
   "id": "3241d0de-a381-45a9-b2fa-9ed915667275",
   "metadata": {},
   "outputs": [],
   "source": [
    "new_model=DecisionTreeClassifier(criterion=\"entropy\",max_depth=5,max_features=5,max_leaf_nodes=4)"
   ]
  },
  {
   "cell_type": "code",
   "execution_count": 91,
   "id": "54fd0d15-9db8-4fc4-b1db-49139cbfc10a",
   "metadata": {},
   "outputs": [],
   "source": [
    "final_model=new_model.fit(x_train,y_train)"
   ]
  },
  {
   "cell_type": "code",
   "execution_count": 92,
   "id": "852c11fc-004c-4903-becc-e218f902aa94",
   "metadata": {},
   "outputs": [],
   "source": [
    "pred=final_model.predict(x_test)"
   ]
  },
  {
   "cell_type": "code",
   "execution_count": 93,
   "id": "bce3ab04-5b56-46ab-b3c6-05ecc457d931",
   "metadata": {},
   "outputs": [
    {
     "name": "stdout",
     "output_type": "stream",
     "text": [
      "<module 'sklearn.metrics' from 'C:\\\\Users\\\\kmm23\\\\anaconda3\\\\Lib\\\\site-packages\\\\sklearn\\\\metrics\\\\__init__.py'>               precision    recall  f1-score   support\n",
      "\n",
      "           0       0.50      0.96      0.66      5143\n",
      "           1       0.52      0.05      0.08      5149\n",
      "\n",
      "    accuracy                           0.50     10292\n",
      "   macro avg       0.51      0.50      0.37     10292\n",
      "weighted avg       0.51      0.50      0.37     10292\n",
      "\n"
     ]
    }
   ],
   "source": [
    "print(metrics,classification_report(y_test,pred))"
   ]
  },
  {
   "cell_type": "code",
   "execution_count": 94,
   "id": "49c5f453-3880-4d05-b9b7-8b53859297f0",
   "metadata": {},
   "outputs": [],
   "source": [
    "from sklearn import tree"
   ]
  },
  {
   "cell_type": "code",
   "execution_count": 95,
   "id": "8814217b-0849-491b-8ea5-e242a9cd6e7a",
   "metadata": {},
   "outputs": [
    {
     "data": {
      "image/png": "[encoded data removed]",
      "text/plain": [
       "<Figure size 2500x2000 with 1 Axes>"
      ]
     },
     "metadata": {},
     "output_type": "display_data"
    }
   ],
   "source": [
    "fig = plt.figure(figsize=(25,20))\n",
    "_ = tree.plot_tree(final_model, feature_names=x_train.columns,filled=True)"
   ]
  },
  {
   "cell_type": "markdown",
   "id": "7b6f60db-6da0-47f0-a3d2-e87135de3af0",
   "metadata": {},
   "source": [
    "# splitting the data into training and testing for knn_model"
   ]
  },
  {
   "cell_type": "code",
   "execution_count": 96,
   "id": "4d2be7a7-9134-44e7-94e2-7a22c460ad67",
   "metadata": {},
   "outputs": [],
   "source": [
    "x=df.drop(\"Passed\",axis=1)\n",
    "y=df.Passed"
   ]
  },
  {
   "cell_type": "code",
   "execution_count": 97,
   "id": "c1a2c77b-521a-4292-a258-5f051d22c4ce",
   "metadata": {},
   "outputs": [],
   "source": [
    "from sklearn.model_selection import train_test_split"
   ]
  },
  {
   "cell_type": "code",
   "execution_count": 98,
   "id": "319ec034-207e-44eb-9013-0c901e105385",
   "metadata": {},
   "outputs": [],
   "source": [
    "x_train,x_test,y_train,y_test = train_test_split(x,y,test_size=0.2,random_state=42)"
   ]
  },
  {
   "cell_type": "code",
   "execution_count": 99,
   "id": "4774d26d-df89-4f0e-b334-b80228266fb1",
   "metadata": {},
   "outputs": [
    {
     "data": {
      "text/html": [
       "<div>\n",
       "<style scoped>\n",
       "    .dataframe tbody tr th:only-of-type {\n",
       "        vertical-align: middle;\n",
       "    }\n",
       "\n",
       "    .dataframe tbody tr th {\n",
       "        vertical-align: top;\n",
       "    }\n",
       "\n",
       "    .dataframe thead th {\n",
       "        text-align: right;\n",
       "    }\n",
       "</style>\n",
       "<table border=\"1\" class=\"dataframe\">\n",
       "  <thead>\n",
       "    <tr style=\"text-align: right;\">\n",
       "      <th></th>\n",
       "      <th>study_hours</th>\n",
       "      <th>Attendance_Rate</th>\n",
       "      <th>Previous_Grades</th>\n",
       "      <th>Participation_in_Extracurricular_Activities</th>\n",
       "      <th>Parent_Education_Level</th>\n",
       "    </tr>\n",
       "  </thead>\n",
       "  <tbody>\n",
       "    <tr>\n",
       "      <th>4961</th>\n",
       "      <td>4.9</td>\n",
       "      <td>82.5</td>\n",
       "      <td>50.7</td>\n",
       "      <td>0</td>\n",
       "      <td>3</td>\n",
       "    </tr>\n",
       "    <tr>\n",
       "      <th>21542</th>\n",
       "      <td>4.8</td>\n",
       "      <td>88.1</td>\n",
       "      <td>60.7</td>\n",
       "      <td>0</td>\n",
       "      <td>0</td>\n",
       "    </tr>\n",
       "    <tr>\n",
       "      <th>29512</th>\n",
       "      <td>7.2</td>\n",
       "      <td>113.6</td>\n",
       "      <td>69.9</td>\n",
       "      <td>1</td>\n",
       "      <td>2</td>\n",
       "    </tr>\n",
       "    <tr>\n",
       "      <th>24217</th>\n",
       "      <td>2.9</td>\n",
       "      <td>65.9</td>\n",
       "      <td>68.3</td>\n",
       "      <td>0</td>\n",
       "      <td>1</td>\n",
       "    </tr>\n",
       "    <tr>\n",
       "      <th>24781</th>\n",
       "      <td>10.0</td>\n",
       "      <td>100.3</td>\n",
       "      <td>41.7</td>\n",
       "      <td>1</td>\n",
       "      <td>1</td>\n",
       "    </tr>\n",
       "    <tr>\n",
       "      <th>...</th>\n",
       "      <td>...</td>\n",
       "      <td>...</td>\n",
       "      <td>...</td>\n",
       "      <td>...</td>\n",
       "      <td>...</td>\n",
       "    </tr>\n",
       "    <tr>\n",
       "      <th>19695</th>\n",
       "      <td>10.0</td>\n",
       "      <td>66.1</td>\n",
       "      <td>76.2</td>\n",
       "      <td>1</td>\n",
       "      <td>0</td>\n",
       "    </tr>\n",
       "    <tr>\n",
       "      <th>7284</th>\n",
       "      <td>16.2</td>\n",
       "      <td>110.7</td>\n",
       "      <td>71.4</td>\n",
       "      <td>0</td>\n",
       "      <td>1</td>\n",
       "    </tr>\n",
       "    <tr>\n",
       "      <th>13161</th>\n",
       "      <td>8.2</td>\n",
       "      <td>37.3</td>\n",
       "      <td>67.2</td>\n",
       "      <td>1</td>\n",
       "      <td>1</td>\n",
       "    </tr>\n",
       "    <tr>\n",
       "      <th>1005</th>\n",
       "      <td>12.0</td>\n",
       "      <td>59.7</td>\n",
       "      <td>64.2</td>\n",
       "      <td>1</td>\n",
       "      <td>0</td>\n",
       "    </tr>\n",
       "    <tr>\n",
       "      <th>18439</th>\n",
       "      <td>15.5</td>\n",
       "      <td>77.1</td>\n",
       "      <td>64.5</td>\n",
       "      <td>0</td>\n",
       "      <td>0</td>\n",
       "    </tr>\n",
       "  </tbody>\n",
       "</table>\n",
       "<p>27444 rows × 5 columns</p>\n",
       "</div>"
      ],
      "text/plain": [
       "       study_hours  Attendance_Rate  Previous_Grades  \\\n",
       "4961           4.9             82.5             50.7   \n",
       "21542          4.8             88.1             60.7   \n",
       "29512          7.2            113.6             69.9   \n",
       "24217          2.9             65.9             68.3   \n",
       "24781         10.0            100.3             41.7   \n",
       "...            ...              ...              ...   \n",
       "19695         10.0             66.1             76.2   \n",
       "7284          16.2            110.7             71.4   \n",
       "13161          8.2             37.3             67.2   \n",
       "1005          12.0             59.7             64.2   \n",
       "18439         15.5             77.1             64.5   \n",
       "\n",
       "       Participation_in_Extracurricular_Activities  Parent_Education_Level  \n",
       "4961                                             0                       3  \n",
       "21542                                            0                       0  \n",
       "29512                                            1                       2  \n",
       "24217                                            0                       1  \n",
       "24781                                            1                       1  \n",
       "...                                            ...                     ...  \n",
       "19695                                            1                       0  \n",
       "7284                                             0                       1  \n",
       "13161                                            1                       1  \n",
       "1005                                             1                       0  \n",
       "18439                                            0                       0  \n",
       "\n",
       "[27444 rows x 5 columns]"
      ]
     },
     "execution_count": 99,
     "metadata": {},
     "output_type": "execute_result"
    }
   ],
   "source": [
    "x_train"
   ]
  },
  {
   "cell_type": "markdown",
   "id": "a431d0e4-59ae-45f6-920f-4511546dbb39",
   "metadata": {},
   "source": [
    "# standardized the data at same scale"
   ]
  },
  {
   "cell_type": "code",
   "execution_count": 100,
   "id": "063da8c7-b04c-4474-82aa-a24dc76380b5",
   "metadata": {},
   "outputs": [],
   "source": [
    "from sklearn.preprocessing import StandardScaler"
   ]
  },
  {
   "cell_type": "code",
   "execution_count": 101,
   "id": "0d9bfd0e-952e-4c0f-a0fd-ffeef752a7eb",
   "metadata": {},
   "outputs": [],
   "source": [
    "sd=StandardScaler()"
   ]
  },
  {
   "cell_type": "code",
   "execution_count": 102,
   "id": "c1977694-fdea-4ad4-a86c-07299a0bc0af",
   "metadata": {},
   "outputs": [],
   "source": [
    "sd=sd.fit(df)"
   ]
  },
  {
   "cell_type": "code",
   "execution_count": 103,
   "id": "a9ec047a-67ef-40a2-ad6b-765f1536d6f8",
   "metadata": {},
   "outputs": [],
   "source": [
    "scaled=sd.transform(df)"
   ]
  },
  {
   "cell_type": "code",
   "execution_count": 104,
   "id": "37cbf44b-40f0-42f6-ac0d-f1b6ed0ac3e2",
   "metadata": {},
   "outputs": [],
   "source": [
    "df_scaled=pd.DataFrame(scaled,columns=df.columns)"
   ]
  },
  {
   "cell_type": "code",
   "execution_count": 105,
   "id": "5ca773cf-ce9b-44a9-8124-ab49a8a29b8f",
   "metadata": {},
   "outputs": [
    {
     "data": {
      "text/html": [
       "<div>\n",
       "<style scoped>\n",
       "    .dataframe tbody tr th:only-of-type {\n",
       "        vertical-align: middle;\n",
       "    }\n",
       "\n",
       "    .dataframe tbody tr th {\n",
       "        vertical-align: top;\n",
       "    }\n",
       "\n",
       "    .dataframe thead th {\n",
       "        text-align: right;\n",
       "    }\n",
       "</style>\n",
       "<table border=\"1\" class=\"dataframe\">\n",
       "  <thead>\n",
       "    <tr style=\"text-align: right;\">\n",
       "      <th></th>\n",
       "      <th>study_hours</th>\n",
       "      <th>Attendance_Rate</th>\n",
       "      <th>Previous_Grades</th>\n",
       "      <th>Participation_in_Extracurricular_Activities</th>\n",
       "      <th>Parent_Education_Level</th>\n",
       "      <th>Passed</th>\n",
       "    </tr>\n",
       "  </thead>\n",
       "  <tbody>\n",
       "    <tr>\n",
       "      <th>0</th>\n",
       "      <td>0.517475</td>\n",
       "      <td>0.001661</td>\n",
       "      <td>0.594437</td>\n",
       "      <td>1.000700</td>\n",
       "      <td>1.427844</td>\n",
       "      <td>1.001459</td>\n",
       "    </tr>\n",
       "    <tr>\n",
       "      <th>1</th>\n",
       "      <td>-0.134838</td>\n",
       "      <td>1.006296</td>\n",
       "      <td>-0.299207</td>\n",
       "      <td>-0.999301</td>\n",
       "      <td>0.718471</td>\n",
       "      <td>-0.998544</td>\n",
       "    </tr>\n",
       "    <tr>\n",
       "      <th>2</th>\n",
       "      <td>0.660168</td>\n",
       "      <td>0.001661</td>\n",
       "      <td>-0.088208</td>\n",
       "      <td>-0.999301</td>\n",
       "      <td>-1.409647</td>\n",
       "      <td>-0.998544</td>\n",
       "    </tr>\n",
       "    <tr>\n",
       "      <th>3</th>\n",
       "      <td>1.557099</td>\n",
       "      <td>0.077009</td>\n",
       "      <td>-0.187502</td>\n",
       "      <td>1.000700</td>\n",
       "      <td>-0.700275</td>\n",
       "      <td>-0.998544</td>\n",
       "    </tr>\n",
       "    <tr>\n",
       "      <th>4</th>\n",
       "      <td>-0.236762</td>\n",
       "      <td>0.704906</td>\n",
       "      <td>0.451702</td>\n",
       "      <td>-0.999301</td>\n",
       "      <td>1.427844</td>\n",
       "      <td>-0.998544</td>\n",
       "    </tr>\n",
       "    <tr>\n",
       "      <th>...</th>\n",
       "      <td>...</td>\n",
       "      <td>...</td>\n",
       "      <td>...</td>\n",
       "      <td>...</td>\n",
       "      <td>...</td>\n",
       "      <td>...</td>\n",
       "    </tr>\n",
       "    <tr>\n",
       "      <th>34301</th>\n",
       "      <td>1.149403</td>\n",
       "      <td>0.930949</td>\n",
       "      <td>-0.870147</td>\n",
       "      <td>1.000700</td>\n",
       "      <td>1.427844</td>\n",
       "      <td>-0.998544</td>\n",
       "    </tr>\n",
       "    <tr>\n",
       "      <th>34302</th>\n",
       "      <td>0.272857</td>\n",
       "      <td>-0.445401</td>\n",
       "      <td>-0.075796</td>\n",
       "      <td>-0.999301</td>\n",
       "      <td>0.009098</td>\n",
       "      <td>1.001459</td>\n",
       "    </tr>\n",
       "    <tr>\n",
       "      <th>34303</th>\n",
       "      <td>0.639784</td>\n",
       "      <td>-0.485587</td>\n",
       "      <td>-1.695526</td>\n",
       "      <td>-0.999301</td>\n",
       "      <td>-0.700275</td>\n",
       "      <td>-0.998544</td>\n",
       "    </tr>\n",
       "    <tr>\n",
       "      <th>34304</th>\n",
       "      <td>0.843631</td>\n",
       "      <td>-0.018432</td>\n",
       "      <td>-0.013737</td>\n",
       "      <td>1.000700</td>\n",
       "      <td>1.427844</td>\n",
       "      <td>-0.998544</td>\n",
       "    </tr>\n",
       "    <tr>\n",
       "      <th>34305</th>\n",
       "      <td>0.374781</td>\n",
       "      <td>-1.013020</td>\n",
       "      <td>0.191056</td>\n",
       "      <td>-0.999301</td>\n",
       "      <td>-0.700275</td>\n",
       "      <td>1.001459</td>\n",
       "    </tr>\n",
       "  </tbody>\n",
       "</table>\n",
       "<p>34306 rows × 6 columns</p>\n",
       "</div>"
      ],
      "text/plain": [
       "       study_hours  Attendance_Rate  Previous_Grades  \\\n",
       "0         0.517475         0.001661         0.594437   \n",
       "1        -0.134838         1.006296        -0.299207   \n",
       "2         0.660168         0.001661        -0.088208   \n",
       "3         1.557099         0.077009        -0.187502   \n",
       "4        -0.236762         0.704906         0.451702   \n",
       "...            ...              ...              ...   \n",
       "34301     1.149403         0.930949        -0.870147   \n",
       "34302     0.272857        -0.445401        -0.075796   \n",
       "34303     0.639784        -0.485587        -1.695526   \n",
       "34304     0.843631        -0.018432        -0.013737   \n",
       "34305     0.374781        -1.013020         0.191056   \n",
       "\n",
       "       Participation_in_Extracurricular_Activities  Parent_Education_Level  \\\n",
       "0                                         1.000700                1.427844   \n",
       "1                                        -0.999301                0.718471   \n",
       "2                                        -0.999301               -1.409647   \n",
       "3                                         1.000700               -0.700275   \n",
       "4                                        -0.999301                1.427844   \n",
       "...                                            ...                     ...   \n",
       "34301                                     1.000700                1.427844   \n",
       "34302                                    -0.999301                0.009098   \n",
       "34303                                    -0.999301               -0.700275   \n",
       "34304                                     1.000700                1.427844   \n",
       "34305                                    -0.999301               -0.700275   \n",
       "\n",
       "         Passed  \n",
       "0      1.001459  \n",
       "1     -0.998544  \n",
       "2     -0.998544  \n",
       "3     -0.998544  \n",
       "4     -0.998544  \n",
       "...         ...  \n",
       "34301 -0.998544  \n",
       "34302  1.001459  \n",
       "34303 -0.998544  \n",
       "34304 -0.998544  \n",
       "34305  1.001459  \n",
       "\n",
       "[34306 rows x 6 columns]"
      ]
     },
     "execution_count": 105,
     "metadata": {},
     "output_type": "execute_result"
    }
   ],
   "source": [
    "df_scaled"
   ]
  },
  {
   "cell_type": "code",
   "execution_count": 106,
   "id": "9c306490-4c35-4ca8-b486-fb95bd9ec0c1",
   "metadata": {},
   "outputs": [
    {
     "data": {
      "text/html": [
       "<div>\n",
       "<style scoped>\n",
       "    .dataframe tbody tr th:only-of-type {\n",
       "        vertical-align: middle;\n",
       "    }\n",
       "\n",
       "    .dataframe tbody tr th {\n",
       "        vertical-align: top;\n",
       "    }\n",
       "\n",
       "    .dataframe thead th {\n",
       "        text-align: right;\n",
       "    }\n",
       "</style>\n",
       "<table border=\"1\" class=\"dataframe\">\n",
       "  <thead>\n",
       "    <tr style=\"text-align: right;\">\n",
       "      <th></th>\n",
       "      <th>study_hours</th>\n",
       "      <th>Attendance_Rate</th>\n",
       "      <th>Previous_Grades</th>\n",
       "      <th>Participation_in_Extracurricular_Activities</th>\n",
       "      <th>Parent_Education_Level</th>\n",
       "    </tr>\n",
       "  </thead>\n",
       "  <tbody>\n",
       "    <tr>\n",
       "      <th>5499</th>\n",
       "      <td>18.0</td>\n",
       "      <td>90.6</td>\n",
       "      <td>47.7</td>\n",
       "      <td>1</td>\n",
       "      <td>3</td>\n",
       "    </tr>\n",
       "    <tr>\n",
       "      <th>32806</th>\n",
       "      <td>11.5</td>\n",
       "      <td>105.7</td>\n",
       "      <td>61.3</td>\n",
       "      <td>0</td>\n",
       "      <td>4</td>\n",
       "    </tr>\n",
       "    <tr>\n",
       "      <th>8926</th>\n",
       "      <td>3.2</td>\n",
       "      <td>79.3</td>\n",
       "      <td>84.6</td>\n",
       "      <td>0</td>\n",
       "      <td>3</td>\n",
       "    </tr>\n",
       "    <tr>\n",
       "      <th>6345</th>\n",
       "      <td>10.4</td>\n",
       "      <td>74.8</td>\n",
       "      <td>73.8</td>\n",
       "      <td>1</td>\n",
       "      <td>2</td>\n",
       "    </tr>\n",
       "    <tr>\n",
       "      <th>33133</th>\n",
       "      <td>13.3</td>\n",
       "      <td>101.6</td>\n",
       "      <td>71.4</td>\n",
       "      <td>0</td>\n",
       "      <td>4</td>\n",
       "    </tr>\n",
       "    <tr>\n",
       "      <th>...</th>\n",
       "      <td>...</td>\n",
       "      <td>...</td>\n",
       "      <td>...</td>\n",
       "      <td>...</td>\n",
       "      <td>...</td>\n",
       "    </tr>\n",
       "    <tr>\n",
       "      <th>16921</th>\n",
       "      <td>13.4</td>\n",
       "      <td>56.2</td>\n",
       "      <td>66.8</td>\n",
       "      <td>0</td>\n",
       "      <td>0</td>\n",
       "    </tr>\n",
       "    <tr>\n",
       "      <th>35161</th>\n",
       "      <td>9.9</td>\n",
       "      <td>116.0</td>\n",
       "      <td>74.9</td>\n",
       "      <td>1</td>\n",
       "      <td>4</td>\n",
       "    </tr>\n",
       "    <tr>\n",
       "      <th>22186</th>\n",
       "      <td>10.0</td>\n",
       "      <td>65.9</td>\n",
       "      <td>60.3</td>\n",
       "      <td>0</td>\n",
       "      <td>4</td>\n",
       "    </tr>\n",
       "    <tr>\n",
       "      <th>21867</th>\n",
       "      <td>8.8</td>\n",
       "      <td>59.9</td>\n",
       "      <td>65.2</td>\n",
       "      <td>0</td>\n",
       "      <td>2</td>\n",
       "    </tr>\n",
       "    <tr>\n",
       "      <th>21278</th>\n",
       "      <td>9.2</td>\n",
       "      <td>91.8</td>\n",
       "      <td>101.7</td>\n",
       "      <td>1</td>\n",
       "      <td>3</td>\n",
       "    </tr>\n",
       "  </tbody>\n",
       "</table>\n",
       "<p>6862 rows × 5 columns</p>\n",
       "</div>"
      ],
      "text/plain": [
       "       study_hours  Attendance_Rate  Previous_Grades  \\\n",
       "5499          18.0             90.6             47.7   \n",
       "32806         11.5            105.7             61.3   \n",
       "8926           3.2             79.3             84.6   \n",
       "6345          10.4             74.8             73.8   \n",
       "33133         13.3            101.6             71.4   \n",
       "...            ...              ...              ...   \n",
       "16921         13.4             56.2             66.8   \n",
       "35161          9.9            116.0             74.9   \n",
       "22186         10.0             65.9             60.3   \n",
       "21867          8.8             59.9             65.2   \n",
       "21278          9.2             91.8            101.7   \n",
       "\n",
       "       Participation_in_Extracurricular_Activities  Parent_Education_Level  \n",
       "5499                                             1                       3  \n",
       "32806                                            0                       4  \n",
       "8926                                             0                       3  \n",
       "6345                                             1                       2  \n",
       "33133                                            0                       4  \n",
       "...                                            ...                     ...  \n",
       "16921                                            0                       0  \n",
       "35161                                            1                       4  \n",
       "22186                                            0                       4  \n",
       "21867                                            0                       2  \n",
       "21278                                            1                       3  \n",
       "\n",
       "[6862 rows x 5 columns]"
      ]
     },
     "execution_count": 106,
     "metadata": {},
     "output_type": "execute_result"
    }
   ],
   "source": [
    "x_test"
   ]
  },
  {
   "cell_type": "markdown",
   "id": "5e0d4add-57e5-455c-81c1-6ce9b691ad4e",
   "metadata": {},
   "source": [
    "# KNN_classification model"
   ]
  },
  {
   "cell_type": "code",
   "execution_count": 107,
   "id": "bcc59202-e84b-42f6-9a3b-e96bad047828",
   "metadata": {},
   "outputs": [],
   "source": [
    "from sklearn.neighbors import KNeighborsClassifier"
   ]
  },
  {
   "cell_type": "code",
   "execution_count": 108,
   "id": "caad82ac-e802-4981-ad12-eee4ab55bc52",
   "metadata": {},
   "outputs": [],
   "source": [
    "knn=KNeighborsClassifier(n_neighbors=3,weights=\"uniform\")"
   ]
  },
  {
   "cell_type": "code",
   "execution_count": 109,
   "id": "e92512ff-2c0d-403c-9bb6-d3a58f1bcc20",
   "metadata": {},
   "outputs": [
    {
     "data": {
      "text/html": [
       "<style>#sk-container-id-1 {color: black;background-color: white;}#sk-container-id-1 pre{padding: 0;}#sk-container-id-1 div.sk-toggleable {background-color: white;}#sk-container-id-1 label.sk-toggleable__label {cursor: pointer;display: block;width: 100%;margin-bottom: 0;padding: 0.3em;box-sizing: border-box;text-align: center;}#sk-container-id-1 label.sk-toggleable__label-arrow:before {content: \"▸\";float: left;margin-right: 0.25em;color: #696969;}#sk-container-id-1 label.sk-toggleable__label-arrow:hover:before {color: black;}#sk-container-id-1 div.sk-estimator:hover label.sk-toggleable__label-arrow:before {color: black;}#sk-container-id-1 div.sk-toggleable__content {max-height: 0;max-width: 0;overflow: hidden;text-align: left;background-color: #f0f8ff;}#sk-container-id-1 div.sk-toggleable__content pre {margin: 0.2em;color: black;border-radius: 0.25em;background-color: #f0f8ff;}#sk-container-id-1 input.sk-toggleable__control:checked~div.sk-toggleable__content {max-height: 200px;max-width: 100%;overflow: auto;}#sk-container-id-1 input.sk-toggleable__control:checked~label.sk-toggleable__label-arrow:before {content: \"▾\";}#sk-container-id-1 div.sk-estimator input.sk-toggleable__control:checked~label.sk-toggleable__label {background-color: #d4ebff;}#sk-container-id-1 div.sk-label input.sk-toggleable__control:checked~label.sk-toggleable__label {background-color: #d4ebff;}#sk-container-id-1 input.sk-hidden--visually {border: 0;clip: rect(1px 1px 1px 1px);clip: rect(1px, 1px, 1px, 1px);height: 1px;margin: -1px;overflow: hidden;padding: 0;position: absolute;width: 1px;}#sk-container-id-1 div.sk-estimator {font-family: monospace;background-color: #f0f8ff;border: 1px dotted black;border-radius: 0.25em;box-sizing: border-box;margin-bottom: 0.5em;}#sk-container-id-1 div.sk-estimator:hover {background-color: #d4ebff;}#sk-container-id-1 div.sk-parallel-item::after {content: \"\";width: 100%;border-bottom: 1px solid gray;flex-grow: 1;}#sk-container-id-1 div.sk-label:hover label.sk-toggleable__label {background-color: #d4ebff;}#sk-container-id-1 div.sk-serial::before {content: \"\";position: absolute;border-left: 1px solid gray;box-sizing: border-box;top: 0;bottom: 0;left: 50%;z-index: 0;}#sk-container-id-1 div.sk-serial {display: flex;flex-direction: column;align-items: center;background-color: white;padding-right: 0.2em;padding-left: 0.2em;position: relative;}#sk-container-id-1 div.sk-item {position: relative;z-index: 1;}#sk-container-id-1 div.sk-parallel {display: flex;align-items: stretch;justify-content: center;background-color: white;position: relative;}#sk-container-id-1 div.sk-item::before, #sk-container-id-1 div.sk-parallel-item::before {content: \"\";position: absolute;border-left: 1px solid gray;box-sizing: border-box;top: 0;bottom: 0;left: 50%;z-index: -1;}#sk-container-id-1 div.sk-parallel-item {display: flex;flex-direction: column;z-index: 1;position: relative;background-color: white;}#sk-container-id-1 div.sk-parallel-item:first-child::after {align-self: flex-end;width: 50%;}#sk-container-id-1 div.sk-parallel-item:last-child::after {align-self: flex-start;width: 50%;}#sk-container-id-1 div.sk-parallel-item:only-child::after {width: 0;}#sk-container-id-1 div.sk-dashed-wrapped {border: 1px dashed gray;margin: 0 0.4em 0.5em 0.4em;box-sizing: border-box;padding-bottom: 0.4em;background-color: white;}#sk-container-id-1 div.sk-label label {font-family: monospace;font-weight: bold;display: inline-block;line-height: 1.2em;}#sk-container-id-1 div.sk-label-container {text-align: center;}#sk-container-id-1 div.sk-container {/* jupyter's `normalize.less` sets `[hidden] { display: none; }` but bootstrap.min.css set `[hidden] { display: none !important; }` so we also need the `!important` here to be able to override the default hidden behavior on the sphinx rendered scikit-learn.org. See: https://github.com/scikit-learn/scikit-learn/issues/21755 */display: inline-block !important;position: relative;}#sk-container-id-1 div.sk-text-repr-fallback {display: none;}</style><div id=\"sk-container-id-1\" class=\"sk-top-container\"><div class=\"sk-text-repr-fallback\"><pre>KNeighborsClassifier(n_neighbors=3)</pre><b>In a Jupyter environment, please rerun this cell to show the HTML representation or trust the notebook. <br />On GitHub, the HTML representation is unable to render, please try loading this page with nbviewer.org.</b></div><div class=\"sk-container\" hidden><div class=\"sk-item\"><div class=\"sk-estimator sk-toggleable\"><input class=\"sk-toggleable__control sk-hidden--visually\" id=\"sk-estimator-id-1\" type=\"checkbox\" checked><label for=\"sk-estimator-id-1\" class=\"sk-toggleable__label sk-toggleable__label-arrow\">KNeighborsClassifier</label><div class=\"sk-toggleable__content\"><pre>KNeighborsClassifier(n_neighbors=3)</pre></div></div></div></div></div>"
      ],
      "text/plain": [
       "KNeighborsClassifier(n_neighbors=3)"
      ]
     },
     "execution_count": 109,
     "metadata": {},
     "output_type": "execute_result"
    }
   ],
   "source": [
    "knn.fit(x_train,y_train)"
   ]
  },
  {
   "cell_type": "code",
   "execution_count": 110,
   "id": "e6395b48-3128-4846-bbc0-acea5f7347ec",
   "metadata": {},
   "outputs": [],
   "source": [
    "pred=knn.predict(x_test)"
   ]
  },
  {
   "cell_type": "code",
   "execution_count": 111,
   "id": "d5823306-32b8-44e5-ba11-ba644f1fa95a",
   "metadata": {},
   "outputs": [],
   "source": [
    "from sklearn.metrics import confusion_matrix,accuracy_score,classification_report"
   ]
  },
  {
   "cell_type": "code",
   "execution_count": 112,
   "id": "acc4d40a-db2c-47b2-80c4-be94d91fafc1",
   "metadata": {},
   "outputs": [
    {
     "name": "stdout",
     "output_type": "stream",
     "text": [
      "<module 'sklearn.metrics' from 'C:\\\\Users\\\\kmm23\\\\anaconda3\\\\Lib\\\\site-packages\\\\sklearn\\\\metrics\\\\__init__.py'>               precision    recall  f1-score   support\n",
      "\n",
      "           0       0.50      0.49      0.50      3479\n",
      "           1       0.49      0.50      0.49      3383\n",
      "\n",
      "    accuracy                           0.49      6862\n",
      "   macro avg       0.49      0.49      0.49      6862\n",
      "weighted avg       0.50      0.49      0.49      6862\n",
      "\n"
     ]
    }
   ],
   "source": [
    "print(metrics,classification_report(y_test,pred))"
   ]
  },
  {
   "cell_type": "code",
   "execution_count": 113,
   "id": "26fca00c-1481-4cb3-9304-0e36779700b0",
   "metadata": {},
   "outputs": [
    {
     "data": {
      "text/plain": [
       "{'algorithm': 'auto',\n",
       " 'leaf_size': 30,\n",
       " 'metric': 'minkowski',\n",
       " 'metric_params': None,\n",
       " 'n_jobs': None,\n",
       " 'n_neighbors': 3,\n",
       " 'p': 2,\n",
       " 'weights': 'uniform'}"
      ]
     },
     "execution_count": 113,
     "metadata": {},
     "output_type": "execute_result"
    }
   ],
   "source": [
    "knn.get_params()"
   ]
  },
  {
   "cell_type": "code",
   "execution_count": 114,
   "id": "787066ca-a41c-4f29-a9ae-d29d999f08d4",
   "metadata": {},
   "outputs": [],
   "source": [
    "knn=KNeighborsClassifier(n_neighbors=2,weights=\"uniform\")"
   ]
  },
  {
   "cell_type": "code",
   "execution_count": 115,
   "id": "70558041-337e-4976-8c2e-eed94ef650b3",
   "metadata": {},
   "outputs": [
    {
     "data": {
      "text/html": [
       "<style>#sk-container-id-2 {color: black;background-color: white;}#sk-container-id-2 pre{padding: 0;}#sk-container-id-2 div.sk-toggleable {background-color: white;}#sk-container-id-2 label.sk-toggleable__label {cursor: pointer;display: block;width: 100%;margin-bottom: 0;padding: 0.3em;box-sizing: border-box;text-align: center;}#sk-container-id-2 label.sk-toggleable__label-arrow:before {content: \"▸\";float: left;margin-right: 0.25em;color: #696969;}#sk-container-id-2 label.sk-toggleable__label-arrow:hover:before {color: black;}#sk-container-id-2 div.sk-estimator:hover label.sk-toggleable__label-arrow:before {color: black;}#sk-container-id-2 div.sk-toggleable__content {max-height: 0;max-width: 0;overflow: hidden;text-align: left;background-color: #f0f8ff;}#sk-container-id-2 div.sk-toggleable__content pre {margin: 0.2em;color: black;border-radius: 0.25em;background-color: #f0f8ff;}#sk-container-id-2 input.sk-toggleable__control:checked~div.sk-toggleable__content {max-height: 200px;max-width: 100%;overflow: auto;}#sk-container-id-2 input.sk-toggleable__control:checked~label.sk-toggleable__label-arrow:before {content: \"▾\";}#sk-container-id-2 div.sk-estimator input.sk-toggleable__control:checked~label.sk-toggleable__label {background-color: #d4ebff;}#sk-container-id-2 div.sk-label input.sk-toggleable__control:checked~label.sk-toggleable__label {background-color: #d4ebff;}#sk-container-id-2 input.sk-hidden--visually {border: 0;clip: rect(1px 1px 1px 1px);clip: rect(1px, 1px, 1px, 1px);height: 1px;margin: -1px;overflow: hidden;padding: 0;position: absolute;width: 1px;}#sk-container-id-2 div.sk-estimator {font-family: monospace;background-color: #f0f8ff;border: 1px dotted black;border-radius: 0.25em;box-sizing: border-box;margin-bottom: 0.5em;}#sk-container-id-2 div.sk-estimator:hover {background-color: #d4ebff;}#sk-container-id-2 div.sk-parallel-item::after {content: \"\";width: 100%;border-bottom: 1px solid gray;flex-grow: 1;}#sk-container-id-2 div.sk-label:hover label.sk-toggleable__label {background-color: #d4ebff;}#sk-container-id-2 div.sk-serial::before {content: \"\";position: absolute;border-left: 1px solid gray;box-sizing: border-box;top: 0;bottom: 0;left: 50%;z-index: 0;}#sk-container-id-2 div.sk-serial {display: flex;flex-direction: column;align-items: center;background-color: white;padding-right: 0.2em;padding-left: 0.2em;position: relative;}#sk-container-id-2 div.sk-item {position: relative;z-index: 1;}#sk-container-id-2 div.sk-parallel {display: flex;align-items: stretch;justify-content: center;background-color: white;position: relative;}#sk-container-id-2 div.sk-item::before, #sk-container-id-2 div.sk-parallel-item::before {content: \"\";position: absolute;border-left: 1px solid gray;box-sizing: border-box;top: 0;bottom: 0;left: 50%;z-index: -1;}#sk-container-id-2 div.sk-parallel-item {display: flex;flex-direction: column;z-index: 1;position: relative;background-color: white;}#sk-container-id-2 div.sk-parallel-item:first-child::after {align-self: flex-end;width: 50%;}#sk-container-id-2 div.sk-parallel-item:last-child::after {align-self: flex-start;width: 50%;}#sk-container-id-2 div.sk-parallel-item:only-child::after {width: 0;}#sk-container-id-2 div.sk-dashed-wrapped {border: 1px dashed gray;margin: 0 0.4em 0.5em 0.4em;box-sizing: border-box;padding-bottom: 0.4em;background-color: white;}#sk-container-id-2 div.sk-label label {font-family: monospace;font-weight: bold;display: inline-block;line-height: 1.2em;}#sk-container-id-2 div.sk-label-container {text-align: center;}#sk-container-id-2 div.sk-container {/* jupyter's `normalize.less` sets `[hidden] { display: none; }` but bootstrap.min.css set `[hidden] { display: none !important; }` so we also need the `!important` here to be able to override the default hidden behavior on the sphinx rendered scikit-learn.org. See: https://github.com/scikit-learn/scikit-learn/issues/21755 */display: inline-block !important;position: relative;}#sk-container-id-2 div.sk-text-repr-fallback {display: none;}</style><div id=\"sk-container-id-2\" class=\"sk-top-container\"><div class=\"sk-text-repr-fallback\"><pre>KNeighborsClassifier(n_neighbors=2)</pre><b>In a Jupyter environment, please rerun this cell to show the HTML representation or trust the notebook. <br />On GitHub, the HTML representation is unable to render, please try loading this page with nbviewer.org.</b></div><div class=\"sk-container\" hidden><div class=\"sk-item\"><div class=\"sk-estimator sk-toggleable\"><input class=\"sk-toggleable__control sk-hidden--visually\" id=\"sk-estimator-id-2\" type=\"checkbox\" checked><label for=\"sk-estimator-id-2\" class=\"sk-toggleable__label sk-toggleable__label-arrow\">KNeighborsClassifier</label><div class=\"sk-toggleable__content\"><pre>KNeighborsClassifier(n_neighbors=2)</pre></div></div></div></div></div>"
      ],
      "text/plain": [
       "KNeighborsClassifier(n_neighbors=2)"
      ]
     },
     "execution_count": 115,
     "metadata": {},
     "output_type": "execute_result"
    }
   ],
   "source": [
    "knn.fit(x_train,y_train)"
   ]
  },
  {
   "cell_type": "code",
   "execution_count": 116,
   "id": "4cba33e8-6a6b-4358-884b-ed90f09abd7b",
   "metadata": {},
   "outputs": [],
   "source": [
    "pred=knn.predict(x_test)"
   ]
  },
  {
   "cell_type": "code",
   "execution_count": 117,
   "id": "291de687-f464-44e3-8f11-ab33d7ab645f",
   "metadata": {},
   "outputs": [
    {
     "data": {
      "text/plain": [
       "array([1, 1, 0, ..., 0, 0, 0])"
      ]
     },
     "execution_count": 117,
     "metadata": {},
     "output_type": "execute_result"
    }
   ],
   "source": [
    "pred"
   ]
  },
  {
   "cell_type": "code",
   "execution_count": 118,
   "id": "dd660587-b1a3-4b2f-a0d1-e97c110ab73e",
   "metadata": {},
   "outputs": [
    {
     "data": {
      "text/plain": [
       "5499     0\n",
       "32806    1\n",
       "8926     1\n",
       "6345     1\n",
       "33133    1\n",
       "        ..\n",
       "16921    0\n",
       "35161    1\n",
       "22186    0\n",
       "21867    1\n",
       "21278    0\n",
       "Name: Passed, Length: 6862, dtype: int32"
      ]
     },
     "execution_count": 118,
     "metadata": {},
     "output_type": "execute_result"
    }
   ],
   "source": [
    "y_test"
   ]
  },
  {
   "cell_type": "code",
   "execution_count": 119,
   "id": "f30fbccc-fb20-4778-900a-9adc977301ed",
   "metadata": {},
   "outputs": [],
   "source": [
    "df0=pd.DataFrame({\"Actual\":y_test,\"predicted\":pred})"
   ]
  },
  {
   "cell_type": "code",
   "execution_count": 120,
   "id": "250a02ad-3384-4386-b931-bb3e25afab32",
   "metadata": {},
   "outputs": [
    {
     "data": {
      "text/html": [
       "<div>\n",
       "<style scoped>\n",
       "    .dataframe tbody tr th:only-of-type {\n",
       "        vertical-align: middle;\n",
       "    }\n",
       "\n",
       "    .dataframe tbody tr th {\n",
       "        vertical-align: top;\n",
       "    }\n",
       "\n",
       "    .dataframe thead th {\n",
       "        text-align: right;\n",
       "    }\n",
       "</style>\n",
       "<table border=\"1\" class=\"dataframe\">\n",
       "  <thead>\n",
       "    <tr style=\"text-align: right;\">\n",
       "      <th></th>\n",
       "      <th>Actual</th>\n",
       "      <th>predicted</th>\n",
       "    </tr>\n",
       "  </thead>\n",
       "  <tbody>\n",
       "    <tr>\n",
       "      <th>5499</th>\n",
       "      <td>0</td>\n",
       "      <td>1</td>\n",
       "    </tr>\n",
       "    <tr>\n",
       "      <th>32806</th>\n",
       "      <td>1</td>\n",
       "      <td>1</td>\n",
       "    </tr>\n",
       "    <tr>\n",
       "      <th>8926</th>\n",
       "      <td>1</td>\n",
       "      <td>0</td>\n",
       "    </tr>\n",
       "    <tr>\n",
       "      <th>6345</th>\n",
       "      <td>1</td>\n",
       "      <td>0</td>\n",
       "    </tr>\n",
       "    <tr>\n",
       "      <th>33133</th>\n",
       "      <td>1</td>\n",
       "      <td>0</td>\n",
       "    </tr>\n",
       "    <tr>\n",
       "      <th>...</th>\n",
       "      <td>...</td>\n",
       "      <td>...</td>\n",
       "    </tr>\n",
       "    <tr>\n",
       "      <th>16921</th>\n",
       "      <td>0</td>\n",
       "      <td>0</td>\n",
       "    </tr>\n",
       "    <tr>\n",
       "      <th>35161</th>\n",
       "      <td>1</td>\n",
       "      <td>1</td>\n",
       "    </tr>\n",
       "    <tr>\n",
       "      <th>22186</th>\n",
       "      <td>0</td>\n",
       "      <td>0</td>\n",
       "    </tr>\n",
       "    <tr>\n",
       "      <th>21867</th>\n",
       "      <td>1</td>\n",
       "      <td>0</td>\n",
       "    </tr>\n",
       "    <tr>\n",
       "      <th>21278</th>\n",
       "      <td>0</td>\n",
       "      <td>0</td>\n",
       "    </tr>\n",
       "  </tbody>\n",
       "</table>\n",
       "<p>6862 rows × 2 columns</p>\n",
       "</div>"
      ],
      "text/plain": [
       "       Actual  predicted\n",
       "5499        0          1\n",
       "32806       1          1\n",
       "8926        1          0\n",
       "6345        1          0\n",
       "33133       1          0\n",
       "...       ...        ...\n",
       "16921       0          0\n",
       "35161       1          1\n",
       "22186       0          0\n",
       "21867       1          0\n",
       "21278       0          0\n",
       "\n",
       "[6862 rows x 2 columns]"
      ]
     },
     "execution_count": 120,
     "metadata": {},
     "output_type": "execute_result"
    }
   ],
   "source": [
    "df0"
   ]
  },
  {
   "cell_type": "code",
   "execution_count": 121,
   "id": "6933d851-5a15-4f58-8722-ad94ffcd5ae9",
   "metadata": {},
   "outputs": [
    {
     "data": {
      "text/plain": [
       "0.49897988924511805"
      ]
     },
     "execution_count": 121,
     "metadata": {},
     "output_type": "execute_result"
    }
   ],
   "source": [
    "knn.score(x_test,y_test)"
   ]
  },
  {
   "cell_type": "code",
   "execution_count": 122,
   "id": "18d0df7f-d286-42a4-a603-396e4ca34560",
   "metadata": {},
   "outputs": [
    {
     "name": "stdout",
     "output_type": "stream",
     "text": [
      "<module 'sklearn.metrics' from 'C:\\\\Users\\\\kmm23\\\\anaconda3\\\\Lib\\\\site-packages\\\\sklearn\\\\metrics\\\\__init__.py'>               precision    recall  f1-score   support\n",
      "\n",
      "           0       0.50      0.74      0.60      3479\n",
      "           1       0.48      0.25      0.33      3383\n",
      "\n",
      "    accuracy                           0.50      6862\n",
      "   macro avg       0.49      0.50      0.46      6862\n",
      "weighted avg       0.49      0.50      0.47      6862\n",
      "\n"
     ]
    }
   ],
   "source": [
    "print(metrics,classification_report(y_test,pred))"
   ]
  },
  {
   "cell_type": "markdown",
   "id": "b559e6d1-d10f-4f59-84d4-5b29025d3119",
   "metadata": {},
   "source": [
    "# import gridsearchcv to get better accuracy of Knn-model"
   ]
  },
  {
   "cell_type": "code",
   "execution_count": 123,
   "id": "0c44a513-5088-462a-bd3d-df82f4915bc5",
   "metadata": {},
   "outputs": [],
   "source": [
    "from sklearn.model_selection import  GridSearchCV\n",
    "from sklearn import metrics"
   ]
  },
  {
   "cell_type": "code",
   "execution_count": 124,
   "id": "5aad0eb7-5f23-4ab4-a1ea-922460b2d8f2",
   "metadata": {},
   "outputs": [],
   "source": [
    "grid = {'n_neighbors':[3,5,7,9,11,13,15,17,18,19,20], 'weights' : ['uniform','distance'] }"
   ]
  },
  {
   "cell_type": "code",
   "execution_count": 125,
   "id": "504e0ffb-9baf-4f6f-bfef-8879aadbbe65",
   "metadata": {},
   "outputs": [],
   "source": [
    "knn_model_Gs = GridSearchCV(KNeighborsClassifier(), param_grid = grid, scoring = 'roc_auc', cv = 9, verbose = True)"
   ]
  },
  {
   "cell_type": "code",
   "execution_count": 126,
   "id": "b3dc9dd6-a36a-4feb-8e3e-2c635ea8ad0e",
   "metadata": {},
   "outputs": [
    {
     "name": "stdout",
     "output_type": "stream",
     "text": [
      "Fitting 9 folds for each of 22 candidates, totalling 198 fits\n"
     ]
    }
   ],
   "source": [
    "knn_model=knn_model_Gs.fit(x_train,y_train)"
   ]
  },
  {
   "cell_type": "code",
   "execution_count": 127,
   "id": "3e4666e7-6be6-42a8-9f59-2a7ae7c71708",
   "metadata": {},
   "outputs": [
    {
     "data": {
      "text/plain": [
       "{'n_neighbors': 7, 'weights': 'uniform'}"
      ]
     },
     "execution_count": 127,
     "metadata": {},
     "output_type": "execute_result"
    }
   ],
   "source": [
    "knn_model.best_params_"
   ]
  },
  {
   "cell_type": "code",
   "execution_count": 128,
   "id": "24dd8acb-d3e2-49db-b01b-ec35229c3e4e",
   "metadata": {},
   "outputs": [
    {
     "data": {
      "text/plain": [
       "0.505260869241456"
      ]
     },
     "execution_count": 128,
     "metadata": {},
     "output_type": "execute_result"
    }
   ],
   "source": [
    "knn_model.best_score_"
   ]
  },
  {
   "cell_type": "code",
   "execution_count": 129,
   "id": "9402feaf-dc30-411d-b978-039232a0ca52",
   "metadata": {},
   "outputs": [],
   "source": [
    "new_model=KNeighborsClassifier(n_neighbors=7,weights=\"uniform\")"
   ]
  },
  {
   "cell_type": "code",
   "execution_count": 130,
   "id": "60153fa0-05c5-4f96-8199-45509644ac59",
   "metadata": {},
   "outputs": [],
   "source": [
    "final_knn_model=new_model.fit(x_train,y_train)"
   ]
  },
  {
   "cell_type": "code",
   "execution_count": 131,
   "id": "30e92035-cec2-4616-a830-4b1692ffbc40",
   "metadata": {},
   "outputs": [],
   "source": [
    "pred=final_knn_model.predict(x_train)"
   ]
  },
  {
   "cell_type": "code",
   "execution_count": 132,
   "id": "11e44b52-89c7-4a6e-9d62-4b695d530486",
   "metadata": {},
   "outputs": [
    {
     "name": "stdout",
     "output_type": "stream",
     "text": [
      "<module 'sklearn.metrics' from 'C:\\\\Users\\\\kmm23\\\\anaconda3\\\\Lib\\\\site-packages\\\\sklearn\\\\metrics\\\\__init__.py'>               precision    recall  f1-score   support\n",
      "\n",
      "           0       0.66      0.66      0.66     13699\n",
      "           1       0.66      0.66      0.66     13745\n",
      "\n",
      "    accuracy                           0.66     27444\n",
      "   macro avg       0.66      0.66      0.66     27444\n",
      "weighted avg       0.66      0.66      0.66     27444\n",
      "\n"
     ]
    }
   ],
   "source": [
    "print(metrics,classification_report(y_train,pred))"
   ]
  },
  {
   "cell_type": "code",
   "execution_count": 133,
   "id": "6d6ad11b-dc87-4809-b074-0551c6594742",
   "metadata": {},
   "outputs": [],
   "source": [
    "pred=final_knn_model.predict(x_test)"
   ]
  },
  {
   "cell_type": "code",
   "execution_count": 134,
   "id": "eb8f6be8-054d-488b-a5d4-61e08251cbf8",
   "metadata": {},
   "outputs": [
    {
     "data": {
      "text/plain": [
       "array([1, 1, 0, ..., 0, 1, 0])"
      ]
     },
     "execution_count": 134,
     "metadata": {},
     "output_type": "execute_result"
    }
   ],
   "source": [
    "pred"
   ]
  },
  {
   "cell_type": "code",
   "execution_count": 135,
   "id": "afee40a9-87d9-4d4c-b745-fea7f21413ba",
   "metadata": {},
   "outputs": [
    {
     "data": {
      "text/plain": [
       "5499     0\n",
       "32806    1\n",
       "8926     1\n",
       "6345     1\n",
       "33133    1\n",
       "        ..\n",
       "16921    0\n",
       "35161    1\n",
       "22186    0\n",
       "21867    1\n",
       "21278    0\n",
       "Name: Passed, Length: 6862, dtype: int32"
      ]
     },
     "execution_count": 135,
     "metadata": {},
     "output_type": "execute_result"
    }
   ],
   "source": [
    "y_test"
   ]
  },
  {
   "cell_type": "code",
   "execution_count": 136,
   "id": "bbfbeeca-b550-464f-9458-d1a1ee458efc",
   "metadata": {},
   "outputs": [],
   "source": [
    "df1=pd.DataFrame({\"Actual\":y_test,\"predicted\":pred})"
   ]
  },
  {
   "cell_type": "code",
   "execution_count": 137,
   "id": "c47cf354-9e90-4159-9aa5-d73d502c1bf3",
   "metadata": {},
   "outputs": [
    {
     "data": {
      "text/html": [
       "<div>\n",
       "<style scoped>\n",
       "    .dataframe tbody tr th:only-of-type {\n",
       "        vertical-align: middle;\n",
       "    }\n",
       "\n",
       "    .dataframe tbody tr th {\n",
       "        vertical-align: top;\n",
       "    }\n",
       "\n",
       "    .dataframe thead th {\n",
       "        text-align: right;\n",
       "    }\n",
       "</style>\n",
       "<table border=\"1\" class=\"dataframe\">\n",
       "  <thead>\n",
       "    <tr style=\"text-align: right;\">\n",
       "      <th></th>\n",
       "      <th>Actual</th>\n",
       "      <th>predicted</th>\n",
       "    </tr>\n",
       "  </thead>\n",
       "  <tbody>\n",
       "    <tr>\n",
       "      <th>5499</th>\n",
       "      <td>0</td>\n",
       "      <td>1</td>\n",
       "    </tr>\n",
       "    <tr>\n",
       "      <th>32806</th>\n",
       "      <td>1</td>\n",
       "      <td>1</td>\n",
       "    </tr>\n",
       "    <tr>\n",
       "      <th>8926</th>\n",
       "      <td>1</td>\n",
       "      <td>0</td>\n",
       "    </tr>\n",
       "    <tr>\n",
       "      <th>6345</th>\n",
       "      <td>1</td>\n",
       "      <td>0</td>\n",
       "    </tr>\n",
       "    <tr>\n",
       "      <th>33133</th>\n",
       "      <td>1</td>\n",
       "      <td>0</td>\n",
       "    </tr>\n",
       "    <tr>\n",
       "      <th>...</th>\n",
       "      <td>...</td>\n",
       "      <td>...</td>\n",
       "    </tr>\n",
       "    <tr>\n",
       "      <th>16921</th>\n",
       "      <td>0</td>\n",
       "      <td>0</td>\n",
       "    </tr>\n",
       "    <tr>\n",
       "      <th>35161</th>\n",
       "      <td>1</td>\n",
       "      <td>1</td>\n",
       "    </tr>\n",
       "    <tr>\n",
       "      <th>22186</th>\n",
       "      <td>0</td>\n",
       "      <td>0</td>\n",
       "    </tr>\n",
       "    <tr>\n",
       "      <th>21867</th>\n",
       "      <td>1</td>\n",
       "      <td>1</td>\n",
       "    </tr>\n",
       "    <tr>\n",
       "      <th>21278</th>\n",
       "      <td>0</td>\n",
       "      <td>0</td>\n",
       "    </tr>\n",
       "  </tbody>\n",
       "</table>\n",
       "<p>6862 rows × 2 columns</p>\n",
       "</div>"
      ],
      "text/plain": [
       "       Actual  predicted\n",
       "5499        0          1\n",
       "32806       1          1\n",
       "8926        1          0\n",
       "6345        1          0\n",
       "33133       1          0\n",
       "...       ...        ...\n",
       "16921       0          0\n",
       "35161       1          1\n",
       "22186       0          0\n",
       "21867       1          1\n",
       "21278       0          0\n",
       "\n",
       "[6862 rows x 2 columns]"
      ]
     },
     "execution_count": 137,
     "metadata": {},
     "output_type": "execute_result"
    }
   ],
   "source": [
    "df1"
   ]
  },
  {
   "cell_type": "code",
   "execution_count": 138,
   "id": "fbc0e25f-a4dd-48fd-8a70-d9acfd6b970b",
   "metadata": {},
   "outputs": [
    {
     "name": "stdout",
     "output_type": "stream",
     "text": [
      "<module 'sklearn.metrics' from 'C:\\\\Users\\\\kmm23\\\\anaconda3\\\\Lib\\\\site-packages\\\\sklearn\\\\metrics\\\\__init__.py'>               precision    recall  f1-score   support\n",
      "\n",
      "           0       0.50      0.49      0.50      3479\n",
      "           1       0.49      0.50      0.49      3383\n",
      "\n",
      "    accuracy                           0.49      6862\n",
      "   macro avg       0.49      0.49      0.49      6862\n",
      "weighted avg       0.49      0.49      0.49      6862\n",
      "\n"
     ]
    }
   ],
   "source": [
    "print(metrics,classification_report(y_test,pred))"
   ]
  },
  {
   "cell_type": "code",
   "execution_count": 139,
   "id": "6d8dca45-59f9-4df1-8a91-f968d34b0247",
   "metadata": {},
   "outputs": [],
   "source": [
    "pred1=final_knn_model.predict(np.array([[0,1,1,0,1,]]))[0]"
   ]
  },
  {
   "cell_type": "code",
   "execution_count": 140,
   "id": "0be60ada-5f18-4b68-8b12-43889422bc77",
   "metadata": {},
   "outputs": [
    {
     "data": {
      "text/plain": [
       "0"
      ]
     },
     "execution_count": 140,
     "metadata": {},
     "output_type": "execute_result"
    }
   ],
   "source": [
    "pred1"
   ]
  },
  {
   "cell_type": "markdown",
   "id": "883622ee-f255-463f-abb8-5db85d6d6206",
   "metadata": {},
   "source": [
    "# Data Visualization"
   ]
  },
  {
   "cell_type": "code",
   "execution_count": 141,
   "id": "3e1ba723-62ee-48cd-92e4-211ae7556d71",
   "metadata": {},
   "outputs": [
    {
     "data": {
      "text/html": [
       "<div>\n",
       "<style scoped>\n",
       "    .dataframe tbody tr th:only-of-type {\n",
       "        vertical-align: middle;\n",
       "    }\n",
       "\n",
       "    .dataframe tbody tr th {\n",
       "        vertical-align: top;\n",
       "    }\n",
       "\n",
       "    .dataframe thead th {\n",
       "        text-align: right;\n",
       "    }\n",
       "</style>\n",
       "<table border=\"1\" class=\"dataframe\">\n",
       "  <thead>\n",
       "    <tr style=\"text-align: right;\">\n",
       "      <th></th>\n",
       "      <th>study_hours</th>\n",
       "      <th>Attendance_Rate</th>\n",
       "      <th>Previous_Grades</th>\n",
       "      <th>Participation_in_Extracurricular_Activities</th>\n",
       "      <th>Parent_Education_Level</th>\n",
       "      <th>Passed</th>\n",
       "    </tr>\n",
       "  </thead>\n",
       "  <tbody>\n",
       "    <tr>\n",
       "      <th>0</th>\n",
       "      <td>12.5</td>\n",
       "      <td>75.3</td>\n",
       "      <td>75.0</td>\n",
       "      <td>1</td>\n",
       "      <td>4</td>\n",
       "      <td>1</td>\n",
       "    </tr>\n",
       "    <tr>\n",
       "      <th>1</th>\n",
       "      <td>9.3</td>\n",
       "      <td>95.3</td>\n",
       "      <td>60.6</td>\n",
       "      <td>0</td>\n",
       "      <td>3</td>\n",
       "      <td>0</td>\n",
       "    </tr>\n",
       "    <tr>\n",
       "      <th>2</th>\n",
       "      <td>13.2</td>\n",
       "      <td>75.3</td>\n",
       "      <td>64.0</td>\n",
       "      <td>0</td>\n",
       "      <td>0</td>\n",
       "      <td>0</td>\n",
       "    </tr>\n",
       "  </tbody>\n",
       "</table>\n",
       "</div>"
      ],
      "text/plain": [
       "   study_hours  Attendance_Rate  Previous_Grades  \\\n",
       "0         12.5             75.3             75.0   \n",
       "1          9.3             95.3             60.6   \n",
       "2         13.2             75.3             64.0   \n",
       "\n",
       "   Participation_in_Extracurricular_Activities  Parent_Education_Level  Passed  \n",
       "0                                            1                       4       1  \n",
       "1                                            0                       3       0  \n",
       "2                                            0                       0       0  "
      ]
     },
     "execution_count": 141,
     "metadata": {},
     "output_type": "execute_result"
    }
   ],
   "source": [
    "df.head(3)"
   ]
  },
  {
   "cell_type": "code",
   "execution_count": 142,
   "id": "d718feee-6186-4ce5-9e5b-b753a2cdf5fa",
   "metadata": {},
   "outputs": [
    {
     "data": {
      "image/png": "[encoded data removed]",
      "text/plain": [
       "<Figure size 640x480 with 1 Axes>"
      ]
     },
     "metadata": {},
     "output_type": "display_data"
    },
    {
     "data": {
      "image/png": "[encoded data removed]",
      "text/plain": [
       "<Figure size 640x480 with 1 Axes>"
      ]
     },
     "metadata": {},
     "output_type": "display_data"
    },
    {
     "data": {
      "image/png": "[encoded data removed]",
      "text/plain": [
       "<Figure size 640x480 with 1 Axes>"
      ]
     },
     "metadata": {},
     "output_type": "display_data"
    },
    {
     "data": {
      "image/png": "[encoded data removed]",
      "text/plain": [
       "<Figure size 640x480 with 1 Axes>"
      ]
     },
     "metadata": {},
     "output_type": "display_data"
    },
    {
     "data": {
      "image/png": "[encoded data removed]",
      "text/plain": [
       "<Figure size 640x480 with 1 Axes>"
      ]
     },
     "metadata": {},
     "output_type": "display_data"
    },
    {
     "data": {
      "image/png": "[encoded data removed]",
      "text/plain": [
       "<Figure size 640x480 with 1 Axes>"
      ]
     },
     "metadata": {},
     "output_type": "display_data"
    }
   ],
   "source": [
    "for col_type in df.select_dtypes(include = \"number\").columns:\n",
    "    sns.histplot(data = df, x = col_type)\n",
    "    plt.show()"
   ]
  },
  {
   "cell_type": "code",
   "execution_count": 143,
   "id": "8c4576cd-1076-46c1-bd78-88e17ab0ba42",
   "metadata": {},
   "outputs": [
    {
     "data": {
      "text/plain": [
       "<Axes: ylabel='Density'>"
      ]
     },
     "execution_count": 143,
     "metadata": {},
     "output_type": "execute_result"
    },
    {
     "data": {
      "image/png": "[encoded data removed]",
      "text/plain": [
       "<Figure size 640x480 with 1 Axes>"
      ]
     },
     "metadata": {},
     "output_type": "display_data"
    }
   ],
   "source": [
    "sns.distplot(x=df.study_hours,bins=5)"
   ]
  },
  {
   "cell_type": "code",
   "execution_count": 144,
   "id": "f0eae621-c2f7-4125-aa35-af77e37357a9",
   "metadata": {},
   "outputs": [
    {
     "data": {
      "text/plain": [
       "<Axes: >"
      ]
     },
     "execution_count": 144,
     "metadata": {},
     "output_type": "execute_result"
    },
    {
     "data": {
      "image/png": "[encoded data removed]",
      "text/plain": [
       "<Figure size 640x480 with 2 Axes>"
      ]
     },
     "metadata": {},
     "output_type": "display_data"
    }
   ],
   "source": [
    "sns.heatmap(df.corr(numeric_only=True),annot=True)"
   ]
  },
  {
   "cell_type": "code",
   "execution_count": 145,
   "id": "fb8508ba-a8f0-433e-9bca-ccbb64758e61",
   "metadata": {},
   "outputs": [
    {
     "data": {
      "text/plain": [
       "<Axes: xlabel='Passed', ylabel='study_hours'>"
      ]
     },
     "execution_count": 145,
     "metadata": {},
     "output_type": "execute_result"
    },
    {
     "data": {
      "image/png": "[encoded data removed]",
      "text/plain": [
       "<Figure size 640x480 with 1 Axes>"
      ]
     },
     "metadata": {},
     "output_type": "display_data"
    }
   ],
   "source": [
    "sns.barplot(x=\"Passed\",y=\"study_hours\",data=df)"
   ]
  }
 ],
 "metadata": {
  "kernelspec": {
   "display_name": "Python 3 (ipykernel)",
   "language": "python",
   "name": "python3"
  },
  "language_info": {
   "codemirror_mode": {
    "name": "ipython",
    "version": 3
   },
   "file_extension": ".py",
   "mimetype": "text/x-python",
   "name": "python",
   "nbconvert_exporter": "python",
   "pygments_lexer": "ipython3",
   "version": "3.11.7"
  }
 },
 "nbformat": 4,
 "nbformat_minor": 5
}
